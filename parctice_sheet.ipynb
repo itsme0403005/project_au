{
 "cells": [
  {
   "cell_type": "code",
   "execution_count": 1,
   "id": "d06649ac",
   "metadata": {},
   "outputs": [
    {
     "name": "stdout",
     "output_type": "stream",
     "text": [
      "14\n"
     ]
    }
   ],
   "source": [
    "num =int(input(\"Enter three digit number\"))   \n",
    "a=num%10\n",
    "num=num//10\n",
    "b=num%10\n",
    "num=num//10\n",
    "c=num%10\n",
    "sum=a+b+c\n",
    "print(sum)\n",
    "\n"
   ]
  },
  {
   "cell_type": "code",
   "execution_count": 3,
   "id": "5105287a",
   "metadata": {},
   "outputs": [
    {
     "name": "stdout",
     "output_type": "stream",
     "text": [
      "Number before swapping 3 5\n",
      "Number after swapping  5 3\n"
     ]
    }
   ],
   "source": [
    "a=int(input(\"Enter the first number\"))\n",
    "b=int(input(\"Enter second number\"))\n",
    "def swap_num(a,b):\n",
    "    a=a+b\n",
    "    b=a-b\n",
    "    a=a-b\n",
    "    return a,b\n",
    "print(\"Number before swapping\",a,b)\n",
    "a,b=swap_num(a,b)\n",
    "print(\"Number after swapping \",a,b)"
   ]
  },
  {
   "cell_type": "code",
   "execution_count": 7,
   "id": "cb1bf426",
   "metadata": {},
   "outputs": [
    {
     "name": "stdout",
     "output_type": "stream",
     "text": [
      "Adult\n",
      "mid age\n",
      "old age\n"
     ]
    }
   ],
   "source": [
    "a=int(input(\"Enter your age\"))\n",
    "if a>18:\n",
    "    print(\"Adult\")\n",
    "if a>30:\n",
    "    print(\"mid age\")\n",
    "if a>50:\n",
    "    print(\"old age\")\n"
   ]
  },
  {
   "cell_type": "code",
   "execution_count": 8,
   "id": "73698183",
   "metadata": {},
   "outputs": [
    {
     "name": "stdout",
     "output_type": "stream",
     "text": [
      "Adult\n"
     ]
    }
   ],
   "source": [
    "a=int(input(\"Enter your age\"))\n",
    "if a>18:\n",
    "    print(\"Adult\")\n",
    "elif a>30:\n",
    "    print(\"mid age\")\n",
    "elif a>50:\n",
    "    print(\"old age\")"
   ]
  },
  {
   "cell_type": "code",
   "execution_count": 9,
   "id": "5d46dead",
   "metadata": {},
   "outputs": [
    {
     "name": "stdout",
     "output_type": "stream",
     "text": [
      "child\n"
     ]
    }
   ],
   "source": [
    "a=int(input(\"Enter your age\"))\n",
    "if a>18:\n",
    "    print(\"Adult\")\n",
    "elif a>30:\n",
    "    print(\"mid age\")\n",
    "elif a>50:\n",
    "    print(\"old age\")\n",
    "else:\n",
    "    print(\"child\")\n"
   ]
  },
  {
   "cell_type": "code",
   "execution_count": 14,
   "id": "5247ff20",
   "metadata": {},
   "outputs": [
    {
     "name": "stdout",
     "output_type": "stream",
     "text": [
      "verify your mail once again\n"
     ]
    }
   ],
   "source": [
    "email=\"abc@gmail.com\"\n",
    "password=\"abcdefg\"\n",
    "user_email=input(\"Enter your email\")\n",
    "user_password=input(\"Enter your password\")\n",
    "if (user_email==email and user_password==password):\n",
    "    print(\"Welcome user\")\n",
    "elif (user_email==email and user_password!=password):\n",
    "    new_password=input(\"enter correct password\")\n",
    "    if new_password==password:\n",
    "        print(\"welcome after 1st attempt\")\n",
    "    else:\n",
    "        print(\"i don't think so you can do this\")\n",
    "else:\n",
    "    print(\"verify your mail once again\")"
   ]
  },
  {
   "cell_type": "code",
   "execution_count": 17,
   "id": "bdfad12b",
   "metadata": {},
   "outputs": [
    {
     "name": "stdout",
     "output_type": "stream",
     "text": [
      "hii\n"
     ]
    }
   ],
   "source": [
    "if True:\n",
    "    print(\"hii\")"
   ]
  },
  {
   "cell_type": "code",
   "execution_count": 1,
   "id": "876f7fd1",
   "metadata": {},
   "outputs": [
    {
     "name": "stdout",
     "output_type": "stream",
     "text": [
      " hii its me Muskan Gupta,currently i am learning python\n"
     ]
    }
   ],
   "source": [
    "a=\" hii its me Muskan Gupta\"\n",
    "b=\"currently i am learning python\"\n",
    "x=f\"{a},{b}\"\n",
    "print(x)"
   ]
  },
  {
   "cell_type": "code",
   "execution_count": null,
   "id": "a9f150d3",
   "metadata": {},
   "outputs": [],
   "source": []
  },
  {
   "cell_type": "code",
   "execution_count": null,
   "id": "c5d2d061",
   "metadata": {},
   "outputs": [],
   "source": []
  }
 ],
 "metadata": {
  "kernelspec": {
   "display_name": "Python 3",
   "language": "python",
   "name": "python3"
  },
  "language_info": {
   "codemirror_mode": {
    "name": "ipython",
    "version": 3
   },
   "file_extension": ".py",
   "mimetype": "text/x-python",
   "name": "python",
   "nbconvert_exporter": "python",
   "pygments_lexer": "ipython3",
   "version": "3.11.5"
  }
 },
 "nbformat": 4,
 "nbformat_minor": 5
}
