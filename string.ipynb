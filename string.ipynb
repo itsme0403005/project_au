{
 "cells": [
  {
   "cell_type": "code",
   "execution_count": 2,
   "id": "e912d287",
   "metadata": {},
   "outputs": [],
   "source": [
    "a=\" hii its me \""
   ]
  },
  {
   "cell_type": "code",
   "execution_count": 3,
   "id": "20d6cf5b",
   "metadata": {},
   "outputs": [
    {
     "data": {
      "text/plain": [
       "9"
      ]
     },
     "execution_count": 3,
     "metadata": {},
     "output_type": "execute_result"
    }
   ],
   "source": [
    "a.find(\"me\")"
   ]
  },
  {
   "cell_type": "code",
   "execution_count": 6,
   "id": "f92d4820",
   "metadata": {},
   "outputs": [
    {
     "data": {
      "text/plain": [
       "'hii its me'"
      ]
     },
     "execution_count": 6,
     "metadata": {},
     "output_type": "execute_result"
    }
   ],
   "source": [
    "a.strip()"
   ]
  },
  {
   "cell_type": "code",
   "execution_count": 7,
   "id": "1229740a",
   "metadata": {},
   "outputs": [
    {
     "data": {
      "text/plain": [
       "['hii', 'its', 'me']"
      ]
     },
     "execution_count": 7,
     "metadata": {},
     "output_type": "execute_result"
    }
   ],
   "source": [
    "a.split()"
   ]
  },
  {
   "cell_type": "code",
   "execution_count": 12,
   "id": "a3fabf7e",
   "metadata": {},
   "outputs": [
    {
     "name": "stdout",
     "output_type": "stream",
     "text": [
      "['h', 'i', 'i', ' ', 'i', 't', 's', ' ', 'm', 'e']\n"
     ]
    }
   ],
   "source": [
    "a=str(input(\"enter your string\"))\n",
    "lst=[]\n",
    "for i in a:\n",
    "    lst.append(i)\n",
    "print(lst,sep=',')"
   ]
  },
  {
   "cell_type": "code",
   "execution_count": 9,
   "id": "2c3c9d93",
   "metadata": {},
   "outputs": [
    {
     "data": {
      "text/plain": [
       "['hiii', 'me']"
      ]
     },
     "execution_count": 9,
     "metadata": {},
     "output_type": "execute_result"
    }
   ],
   "source": [
    "\n",
    "s=str(input(\"enter your string\"))\n",
    "word=\"\"\n",
    "lst=[]\n",
    "for i in s:\n",
    "    if i!=\" \":\n",
    "        word+=i\n",
    "    else:\n",
    "        if word ==\"\":\n",
    "            continue\n",
    "        lst.append(word)\n",
    "        word=\"\"\n",
    "lst.append(word)                       \n",
    "lst                            "
   ]
  },
  {
   "cell_type": "code",
   "execution_count": 10,
   "id": "7a533712",
   "metadata": {},
   "outputs": [
    {
     "data": {
      "text/plain": [
       "['hi', 'me']"
      ]
     },
     "execution_count": 10,
     "metadata": {},
     "output_type": "execute_result"
    }
   ],
   "source": [
    "s=str(input(\"enter your string\"))\n",
    "word=\"\"\n",
    "lst=[]\n",
    "for i in s:\n",
    "    if i!=\" \":\n",
    "        word+=i\n",
    "    else:\n",
    "        if word ==\"\":\n",
    "            word=\"\"\n",
    "        else:\n",
    "         lst.append(word)\n",
    "         word=\"\"\n",
    "lst.append(word)                       \n",
    "lst  "
   ]
  },
  {
   "cell_type": "code",
   "execution_count": null,
   "id": "cecb2f68",
   "metadata": {},
   "outputs": [],
   "source": []
  }
 ],
 "metadata": {
  "kernelspec": {
   "display_name": "Python 3",
   "language": "python",
   "name": "python3"
  },
  "language_info": {
   "codemirror_mode": {
    "name": "ipython",
    "version": 3
   },
   "file_extension": ".py",
   "mimetype": "text/x-python",
   "name": "python",
   "nbconvert_exporter": "python",
   "pygments_lexer": "ipython3",
   "version": "3.11.5"
  }
 },
 "nbformat": 4,
 "nbformat_minor": 5
}
