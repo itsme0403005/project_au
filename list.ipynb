{
 "cells": [
  {
   "cell_type": "code",
   "execution_count": 166,
   "id": "c71a5298",
   "metadata": {},
   "outputs": [
    {
     "data": {
      "text/plain": [
       "'me'"
      ]
     },
     "execution_count": 166,
     "metadata": {},
     "output_type": "execute_result"
    }
   ],
   "source": [
    "lst=[\"a\",1,2,3,4,\"me\"]\n",
    "lst[-1]                # negative indexing "
   ]
  },
  {
   "cell_type": "markdown",
   "id": "19081406",
   "metadata": {},
   "source": [
    "# Replacing"
   ]
  },
  {
   "cell_type": "code",
   "execution_count": 167,
   "id": "f963a54c",
   "metadata": {},
   "outputs": [
    {
     "data": {
      "text/plain": [
       "['a', 1, 2, 3, 'you', 'me']"
      ]
     },
     "execution_count": 167,
     "metadata": {},
     "output_type": "execute_result"
    }
   ],
   "source": [
    "lst[4]=\"you\"    # Replacing \n",
    "lst"
   ]
  },
  {
   "cell_type": "code",
   "execution_count": 168,
   "id": "1f0fc614",
   "metadata": {},
   "outputs": [
    {
     "data": {
      "text/plain": [
       "['a', 1, 2, 'you', 'you', 'me']"
      ]
     },
     "execution_count": 168,
     "metadata": {},
     "output_type": "execute_result"
    }
   ],
   "source": [
    "lst[3]=\"you\"\n",
    "lst"
   ]
  },
  {
   "cell_type": "markdown",
   "id": "1cd6c94c",
   "metadata": {},
   "source": [
    "# Slicing\n"
   ]
  },
  {
   "cell_type": "code",
   "execution_count": 169,
   "id": "36f3f998",
   "metadata": {},
   "outputs": [
    {
     "data": {
      "text/plain": [
       "[2, 'you']"
      ]
     },
     "execution_count": 169,
     "metadata": {},
     "output_type": "execute_result"
    }
   ],
   "source": [
    "lst[2:-2:1]  # start,end , jump"
   ]
  },
  {
   "cell_type": "code",
   "execution_count": 170,
   "id": "a3aa4930",
   "metadata": {},
   "outputs": [
    {
     "data": {
      "text/plain": [
       "['a', 2]"
      ]
     },
     "execution_count": 170,
     "metadata": {},
     "output_type": "execute_result"
    }
   ],
   "source": [
    "lst[:4:2]"
   ]
  },
  {
   "cell_type": "code",
   "execution_count": 171,
   "id": "30943bdf",
   "metadata": {},
   "outputs": [
    {
     "data": {
      "text/plain": [
       "['you', 'me']"
      ]
     },
     "execution_count": 171,
     "metadata": {},
     "output_type": "execute_result"
    }
   ],
   "source": [
    "lst[3::2]"
   ]
  },
  {
   "cell_type": "code",
   "execution_count": 172,
   "id": "cf4f798e",
   "metadata": {},
   "outputs": [
    {
     "data": {
      "text/plain": [
       "['a', 2, 'you']"
      ]
     },
     "execution_count": 172,
     "metadata": {},
     "output_type": "execute_result"
    }
   ],
   "source": [
    "lst[::2]"
   ]
  },
  {
   "cell_type": "code",
   "execution_count": 173,
   "id": "2488b270",
   "metadata": {},
   "outputs": [
    {
     "data": {
      "text/plain": [
       "['me', 'you', 'you', 2]"
      ]
     },
     "execution_count": 173,
     "metadata": {},
     "output_type": "execute_result"
    }
   ],
   "source": [
    "lst[-1:-5:-1]"
   ]
  },
  {
   "cell_type": "code",
   "execution_count": 174,
   "id": "76ab91a6",
   "metadata": {},
   "outputs": [
    {
     "data": {
      "text/plain": [
       "['me', 'you', 'you', 2, 1, 'a']"
      ]
     },
     "execution_count": 174,
     "metadata": {},
     "output_type": "execute_result"
    }
   ],
   "source": [
    "lst[::-1]"
   ]
  },
  {
   "cell_type": "markdown",
   "id": "dfae5c8b",
   "metadata": {},
   "source": [
    "# Function in list"
   ]
  },
  {
   "cell_type": "code",
   "execution_count": 175,
   "id": "30a0d43a",
   "metadata": {},
   "outputs": [
    {
     "data": {
      "text/plain": [
       "['a', 1, 2, 'you', 'you', 'me', [2, 3]]"
      ]
     },
     "execution_count": 175,
     "metadata": {},
     "output_type": "execute_result"
    }
   ],
   "source": [
    "lst.append([2,3])  # adding elemrent at the end\n",
    "lst"
   ]
  },
  {
   "cell_type": "code",
   "execution_count": 176,
   "id": "d3e34026",
   "metadata": {},
   "outputs": [
    {
     "data": {
      "text/plain": [
       "['a', 1, 2, 'you', 'you', 'me', [2, 3], 2, 3]"
      ]
     },
     "execution_count": 176,
     "metadata": {},
     "output_type": "execute_result"
    }
   ],
   "source": [
    "lst.extend([2,3]) # extending the list\n",
    "lst"
   ]
  },
  {
   "cell_type": "code",
   "execution_count": 177,
   "id": "476ade73",
   "metadata": {},
   "outputs": [
    {
     "data": {
      "text/plain": [
       "['a', 1, 2, 'you', 'you', 'me', [2, 3], 2, 3, 4, 5]"
      ]
     },
     "execution_count": 177,
     "metadata": {},
     "output_type": "execute_result"
    }
   ],
   "source": [
    "lst=lst+[4,5]\n",
    "lst"
   ]
  },
  {
   "cell_type": "code",
   "execution_count": 178,
   "id": "c8b2eabf",
   "metadata": {},
   "outputs": [
    {
     "data": {
      "text/plain": [
       "['a', 1, 2, 'you', 'you', 'me', [2, 3], 2, 3, 4]"
      ]
     },
     "execution_count": 178,
     "metadata": {},
     "output_type": "execute_result"
    }
   ],
   "source": [
    "lst.pop()  # pop return a value\n",
    "lst"
   ]
  },
  {
   "cell_type": "code",
   "execution_count": 179,
   "id": "7f0cd122",
   "metadata": {},
   "outputs": [
    {
     "data": {
      "text/plain": [
       "['a', 1, 2, 'you', 'you', 'me', 2, 3, 4]"
      ]
     },
     "execution_count": 179,
     "metadata": {},
     "output_type": "execute_result"
    }
   ],
   "source": [
    "lst.pop(-4)\n",
    "lst"
   ]
  },
  {
   "cell_type": "code",
   "execution_count": 180,
   "id": "7e9e9eb1",
   "metadata": {},
   "outputs": [
    {
     "data": {
      "text/plain": [
       "['a', 1, 'you', 'me', 2, 3, 4]"
      ]
     },
     "execution_count": 180,
     "metadata": {},
     "output_type": "execute_result"
    }
   ],
   "source": [
    "lst.remove(2)  # doesn't return any value \n",
    "lst.remove(\"you\")\n",
    "lst"
   ]
  },
  {
   "cell_type": "code",
   "execution_count": 181,
   "id": "199858b1",
   "metadata": {},
   "outputs": [
    {
     "data": {
      "text/plain": [
       "[1, 'you', 'me', 2, 3, 4]"
      ]
     },
     "execution_count": 181,
     "metadata": {},
     "output_type": "execute_result"
    }
   ],
   "source": [
    "del(lst[0]) # deleting the element\n",
    "lst"
   ]
  },
  {
   "cell_type": "markdown",
   "id": "1c262a25",
   "metadata": {},
   "source": [
    "# list comprenhension"
   ]
  },
  {
   "cell_type": "code",
   "execution_count": 182,
   "id": "801283bd",
   "metadata": {},
   "outputs": [
    {
     "data": {
      "text/plain": [
       "[1, 2, 3, 4, 5, 6, 7, 8, 9]"
      ]
     },
     "execution_count": 182,
     "metadata": {},
     "output_type": "execute_result"
    }
   ],
   "source": [
    "lst=list(range(1,10))\n",
    "lst"
   ]
  },
  {
   "cell_type": "code",
   "execution_count": 183,
   "id": "856fbadb",
   "metadata": {},
   "outputs": [
    {
     "data": {
      "text/plain": [
       "[1, 4, 9, 16, 25, 36, 49, 64, 81]"
      ]
     },
     "execution_count": 183,
     "metadata": {},
     "output_type": "execute_result"
    }
   ],
   "source": [
    "sq_lst=[i**2 for i in lst]\n",
    "sq_lst"
   ]
  },
  {
   "cell_type": "code",
   "execution_count": 184,
   "id": "c0b34948",
   "metadata": {},
   "outputs": [
    {
     "data": {
      "text/plain": [
       "[4, 16, 36, 64]"
      ]
     },
     "execution_count": 184,
     "metadata": {},
     "output_type": "execute_result"
    }
   ],
   "source": [
    "sq_lst=[i**2 for i in lst if i%2==0] # for if condition\n",
    "sq_lst"
   ]
  },
  {
   "cell_type": "code",
   "execution_count": 185,
   "id": "2d4772fc",
   "metadata": {},
   "outputs": [
    {
     "data": {
      "text/plain": [
       "['odd', 'even', 'odd', 'even', 'odd', 'even', 'odd', 'even', 'odd']"
      ]
     },
     "execution_count": 185,
     "metadata": {},
     "output_type": "execute_result"
    }
   ],
   "source": [
    "sq_lst=[\"even\" if i%2==0 else \"odd\" for i in lst]\n",
    "sq_lst"
   ]
  },
  {
   "cell_type": "code",
   "execution_count": 186,
   "id": "0deac52f",
   "metadata": {},
   "outputs": [
    {
     "data": {
      "text/plain": [
       "[1, 2, 3, 4, 5]"
      ]
     },
     "execution_count": 186,
     "metadata": {},
     "output_type": "execute_result"
    }
   ],
   "source": [
    "lst=[i for i in lst if i<6]\n",
    "lst"
   ]
  },
  {
   "cell_type": "code",
   "execution_count": 191,
   "id": "2eeda1e3",
   "metadata": {},
   "outputs": [
    {
     "data": {
      "text/plain": [
       "[[1, 2, 3], ['a', 'b', 'c']]"
      ]
     },
     "execution_count": 191,
     "metadata": {},
     "output_type": "execute_result"
    }
   ],
   "source": [
    "# lst=[[1,2,3],[\"a\",\"b\",\"c\"]]\n",
    "# lst=[i for i in list(lst)  ]\n",
    "# lst"
   ]
  },
  {
   "cell_type": "code",
   "execution_count": null,
   "id": "d2c1000c",
   "metadata": {},
   "outputs": [],
   "source": []
  }
 ],
 "metadata": {
  "kernelspec": {
   "display_name": "Python 3",
   "language": "python",
   "name": "python3"
  },
  "language_info": {
   "codemirror_mode": {
    "name": "ipython",
    "version": 3
   },
   "file_extension": ".py",
   "mimetype": "text/x-python",
   "name": "python",
   "nbconvert_exporter": "python",
   "pygments_lexer": "ipython3",
   "version": "3.11.5"
  }
 },
 "nbformat": 4,
 "nbformat_minor": 5
}
