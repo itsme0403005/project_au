{
 "cells": [
  {
   "cell_type": "code",
   "execution_count": null,
   "id": "6639c615",
   "metadata": {},
   "outputs": [],
   "source": [
    "class Bank: \n",
    "    def __init__(self, name, balance , account_number):\n",
    "        self.name = name\n",
    "        self.balance = balance\n",
    "        self.account_number = account_number\n"
   ]
  },
  {
   "cell_type": "code",
   "execution_count": 12,
   "id": "ec59f603",
   "metadata": {},
   "outputs": [
    {
     "data": {
      "text/plain": [
       "'A'"
      ]
     },
     "execution_count": 12,
     "metadata": {},
     "output_type": "execute_result"
    }
   ],
   "source": [
    "a1=Bank(\"A\",1000,1234)\n",
    "a1.name"
   ]
  },
  {
   "cell_type": "code",
   "execution_count": 22,
   "id": "d04c2a27",
   "metadata": {},
   "outputs": [],
   "source": [
    "class car:\n",
    "    def __init__(self,color,brand,price):\n",
    "        self.color=color\n",
    "        self.model=brand\n",
    "        self.price=price\n",
    "    def display(self):\n",
    "        print(self.color)"
   ]
  },
  {
   "cell_type": "code",
   "execution_count": 23,
   "id": "2ba5fe85",
   "metadata": {},
   "outputs": [
    {
     "data": {
      "text/plain": [
       "1000000"
      ]
     },
     "execution_count": 23,
     "metadata": {},
     "output_type": "execute_result"
    }
   ],
   "source": [
    "a1=car(\"red\",\"bmw\",1000000)\n",
    "a1.price"
   ]
  },
  {
   "cell_type": "code",
   "execution_count": 24,
   "id": "69b8f1f9",
   "metadata": {},
   "outputs": [
    {
     "name": "stdout",
     "output_type": "stream",
     "text": [
      "red\n"
     ]
    }
   ],
   "source": [
    "a1.display()"
   ]
  },
  {
   "cell_type": "code",
   "execution_count": 25,
   "id": "a172e408",
   "metadata": {},
   "outputs": [],
   "source": [
    "class Bank: \n",
    "    def __init__(self, name, balance , account_number):\n",
    "        self.name = name\n",
    "        self.balance = balance\n",
    "        self.account_number = account_number\n",
    "        self.display()\n",
    "    def display(self):\n",
    "        print(\"name\",self.name)\n",
    "        print(\"balance\",self.balance)\n",
    "        print(\"account number\",self.account_number)\n",
    "    def bal_mul(self):\n",
    "        if self.balance>10000:\n",
    "            return 2*self.balance\n",
    "        else:\n",
    "            return self.balance"
   ]
  },
  {
   "cell_type": "code",
   "execution_count": 26,
   "id": "15b74fb0",
   "metadata": {},
   "outputs": [
    {
     "name": "stdout",
     "output_type": "stream",
     "text": [
      "name A\n",
      "balance 1000\n",
      "account number 1234\n"
     ]
    },
    {
     "data": {
      "text/plain": [
       "1000"
      ]
     },
     "execution_count": 26,
     "metadata": {},
     "output_type": "execute_result"
    }
   ],
   "source": [
    "a1=Bank(\"A\",1000,1234)\n",
    "a1.bal_mul()"
   ]
  },
  {
   "cell_type": "code",
   "execution_count": 37,
   "id": "a5f1546a",
   "metadata": {},
   "outputs": [],
   "source": [
    "class animal :\n",
    "    def __init__ (self,legs,tail,eats):\n",
    "        self.legs=legs\n",
    "        self.tail=tail\n",
    "        self.eats=eats\n",
    "    # def __init__ (self,head):\n",
    "    #     self.head=head\n",
    "    def kind(self):\n",
    "        if self.legs==4:\n",
    "            print(\"it is a mammal\")\n",
    "        else:\n",
    "            print(\"it is not a mammal\")\n",
    "        if self.tail==1:\n",
    "            print(\"it is a bird\")\n",
    "        else:\n",
    "            print(\"it is not a bird\")\n",
    "        if self.eats==\"grass\":\n",
    "            print(\"it is a herbivore\")\n",
    "        elif self.eats==\"meat\":\n",
    "            print(\"it is a carnivore\")\n",
    "        else:\n",
    "            print(\"it is a omnivore\")"
   ]
  },
  {
   "cell_type": "code",
   "execution_count": 36,
   "id": "5daa100a",
   "metadata": {},
   "outputs": [
    {
     "name": "stdout",
     "output_type": "stream",
     "text": [
      "it is not a mammal\n",
      "it is a bird\n",
      "it is a carnivore\n"
     ]
    }
   ],
   "source": [
    "a1=animal(2,1,\"meat\")\n",
    "a1.kind()"
   ]
  },
  {
   "cell_type": "code",
   "execution_count": 5,
   "id": "510ed71b",
   "metadata": {},
   "outputs": [],
   "source": [
    "class Fraction:\n",
    "    def __init__(self, num=1, den=1):\n",
    "        self.num = num\n",
    "        self.den = den\n",
    "    def __str__(self):\n",
    "        return f\"{self.num}/{self.den}\"\n",
    "    def __add__(self, other):\n",
    "        num = self.num * other.den + self.den * other.num\n",
    "        den = self.den * other.den\n",
    "        return Fraction(num, den)\n",
    "    def __sub__(self,other):\n",
    "        num=self.num*other.den-self.den*other.num\n",
    "        den=self.den*other.den\n",
    "        return Fraction(num,den)\n",
    "    def __mul__(self,other):\n",
    "        num=self.num*other.num\n",
    "        den=self.den*other.den\n",
    "        return Fraction(num,den)\n",
    "    def __truediv__(self,other):\n",
    "        num=self.num*other.den\n",
    "        den=self.den*other.num\n",
    "        return Fraction(num,den)"
   ]
  },
  {
   "cell_type": "code",
   "execution_count": null,
   "id": "f5809df9",
   "metadata": {},
   "outputs": [
    {
     "name": "stdout",
     "output_type": "stream",
     "text": [
      "11/4\n",
      "-5/4\n",
      "6/4\n",
      "3/8\n"
     ]
    }
   ],
   "source": [
    "a1=Fraction(2)\n",
    "a2=Fraction(3,4)\n",
    "print(a1+a2)\n",
    "print(a2-a1)\n",
    "print(a1*a2)\n",
    "print(a2/a1)"
   ]
  },
  {
   "cell_type": "code",
   "execution_count": 10,
   "id": "cd612d6f",
   "metadata": {},
   "outputs": [
    {
     "name": "stdout",
     "output_type": "stream",
     "text": [
      "1/2\n"
     ]
    }
   ],
   "source": [
    "print(a1)"
   ]
  },
  {
   "cell_type": "code",
   "execution_count": 11,
   "id": "50b94d48",
   "metadata": {},
   "outputs": [
    {
     "data": {
      "text/plain": [
       "__main__.Fraction"
      ]
     },
     "execution_count": 11,
     "metadata": {},
     "output_type": "execute_result"
    }
   ],
   "source": [
    "type(a1)"
   ]
  },
  {
   "cell_type": "markdown",
   "id": "acd7a0db",
   "metadata": {},
   "source": [
    "`Inheritance`\n"
   ]
  },
  {
   "cell_type": "code",
   "execution_count": 8,
   "id": "b9692701",
   "metadata": {},
   "outputs": [],
   "source": [
    "class Animal:\n",
    "    def __init__(self,name,legs):\n",
    "        self.name=name \n",
    "        self.legs=legs \n",
    "    def eat(self):\n",
    "        return \"I eat and then Sleep\"\n",
    "class Lion(Animal):\n",
    "    def status(self):\n",
    "        print(\"I am king of jungle\")\n",
    "class Dog(Animal):\n",
    "    def status(self):\n",
    "        print(\"I am watcher of jungle\")"
   ]
  },
  {
   "cell_type": "code",
   "execution_count": 12,
   "id": "bc877068",
   "metadata": {},
   "outputs": [
    {
     "name": "stdout",
     "output_type": "stream",
     "text": [
      "I eat and then Sleep\n",
      "I eat and then Sleep\n",
      "I am king of jungle\n",
      "I am watcher of jungle\n"
     ]
    }
   ],
   "source": [
    "L1=Lion(\"simba\",4)\n",
    "D1=Dog(\"dog\",4)\n",
    "print(L1.eat())\n",
    "print(D1.eat())\n",
    "L1.status()\n",
    "D1.status()"
   ]
  },
  {
   "cell_type": "code",
   "execution_count": 23,
   "id": "07141886",
   "metadata": {},
   "outputs": [],
   "source": [
    "class Cat(Animal):\n",
    "    def __init__(self,name,legs,mustache_color):\n",
    "        super().__init__(name,legs)          # super() is used to access the parent class\n",
    "        self.mustache_color=mustache_color\n",
    "    def eat(self):\n",
    "        x=super().eat()\n",
    "        y=\"\"\n",
    "        for ele in x:\n",
    "            if ele==\"I\":\n",
    "                y+=\"i\"\n",
    "            else:\n",
    "                y+=ele \n",
    "        return y"
   ]
  },
  {
   "cell_type": "code",
   "execution_count": 24,
   "id": "4baabfff",
   "metadata": {},
   "outputs": [
    {
     "name": "stdout",
     "output_type": "stream",
     "text": [
      "white\n",
      "i eat and then Sleep\n"
     ]
    }
   ],
   "source": [
    "c1=Cat(\"Tom\",4,\"white\")\n",
    "print(c1.mustache_color)\n",
    "print(c1.eat())"
   ]
  },
  {
   "cell_type": "markdown",
   "id": "b39c27f1",
   "metadata": {},
   "source": [
    "`Polymorphism`"
   ]
  },
  {
   "cell_type": "code",
   "execution_count": 27,
   "id": "4c4bc8e2",
   "metadata": {},
   "outputs": [],
   "source": [
    "class Luxary_car:\n",
    "    def methode_drive(self):\n",
    "        print(\"Drive Carefully\") \n",
    "\n",
    "class Gernal_car:\n",
    "    def methode_drive(self):\n",
    "        print(\"Drive safe\")\n",
    "    "
   ]
  },
  {
   "cell_type": "code",
   "execution_count": 28,
   "id": "e0e2c5b2",
   "metadata": {},
   "outputs": [],
   "source": [
    "mercedes=Luxary_car() \n",
    "nano=Gernal_car()\n"
   ]
  },
  {
   "cell_type": "code",
   "execution_count": 29,
   "id": "6332adf5",
   "metadata": {},
   "outputs": [
    {
     "name": "stdout",
     "output_type": "stream",
     "text": [
      "Drive Carefully\n",
      "Drive safe\n"
     ]
    }
   ],
   "source": [
    "list56=[mercedes,nano] \n",
    "for car in list56:\n",
    "    car.methode_drive()"
   ]
  },
  {
   "cell_type": "markdown",
   "id": "f1165705",
   "metadata": {},
   "source": [
    "`Encalsulation`\n"
   ]
  },
  {
   "cell_type": "code",
   "execution_count": 19,
   "id": "a51e9e8e",
   "metadata": {},
   "outputs": [],
   "source": [
    "class Bank: \n",
    "    def __init__(self, name, balance , account_number):\n",
    "        self.name = name\n",
    "        self._balance = balance    # Private attribute\n",
    "        self.account_number = account_number\n",
    "        self.display()\n",
    "    def display(self):\n",
    "        print(\"name\",self.name)\n",
    "        print(\"balance\",self._balance)\n",
    "        print(\"account number\",self.account_number)\n",
    "    def get_balance(self):\n",
    "        return f\"Your balance is {self._balance}\"\n",
    "    def set_balance(self):\n",
    "        balance=float(input(\"Enter the new balance\"))\n",
    "        self._balance=balance\n",
    "        return f\"Your new balance is {self._balance}\""
   ]
  },
  {
   "cell_type": "code",
   "execution_count": 20,
   "id": "76e3fc15",
   "metadata": {},
   "outputs": [
    {
     "name": "stdout",
     "output_type": "stream",
     "text": [
      "name A\n",
      "balance 1000\n",
      "account number 1234\n",
      "Your balance is 1000\n",
      "Your new balance is 234.0\n"
     ]
    }
   ],
   "source": [
    "c1=Bank(\"A\",1000,1234)\n",
    "print(c1.get_balance())\n",
    "print(c1.set_balance())"
   ]
  },
  {
   "cell_type": "code",
   "execution_count": null,
   "id": "ff2c4ed6",
   "metadata": {},
   "outputs": [],
   "source": []
  }
 ],
 "metadata": {
  "kernelspec": {
   "display_name": "Python 3",
   "language": "python",
   "name": "python3"
  },
  "language_info": {
   "codemirror_mode": {
    "name": "ipython",
    "version": 3
   },
   "file_extension": ".py",
   "mimetype": "text/x-python",
   "name": "python",
   "nbconvert_exporter": "python",
   "pygments_lexer": "ipython3",
   "version": "3.11.5"
  }
 },
 "nbformat": 4,
 "nbformat_minor": 5
}
