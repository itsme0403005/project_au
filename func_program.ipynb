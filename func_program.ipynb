{
 "cells": [
  {
   "cell_type": "code",
   "execution_count": 4,
   "id": "9dd636ab",
   "metadata": {},
   "outputs": [
    {
     "data": {
      "text/plain": [
       "21"
      ]
     },
     "execution_count": 4,
     "metadata": {},
     "output_type": "execute_result"
    }
   ],
   "source": [
    "def test(x,y):\n",
    "    return (x+y)\n",
    "def func(a,b,function):\n",
    "    return 3*function(a,b)\n",
    "func(3,4,test)"
   ]
  },
  {
   "cell_type": "code",
   "execution_count": 5,
   "id": "0651608b",
   "metadata": {},
   "outputs": [
    {
     "data": {
      "text/plain": [
       "21"
      ]
     },
     "execution_count": 5,
     "metadata": {},
     "output_type": "execute_result"
    }
   ],
   "source": [
    "func(3,4,lambda x,y:x+y)"
   ]
  },
  {
   "cell_type": "code",
   "execution_count": 6,
   "id": "46dd7a35",
   "metadata": {},
   "outputs": [
    {
     "data": {
      "text/plain": [
       "[1, 4, 9, 16, 25]"
      ]
     },
     "execution_count": 6,
     "metadata": {},
     "output_type": "execute_result"
    }
   ],
   "source": [
    "def square(x):\n",
    "    return x*x\n",
    "lst=[1,2,3,4,5]\n",
    "list(map(square,lst))"
   ]
  },
  {
   "cell_type": "code",
   "execution_count": 7,
   "id": "c6e3e366",
   "metadata": {},
   "outputs": [
    {
     "data": {
      "text/plain": [
       "[1, 4, 9, 16, 25]"
      ]
     },
     "execution_count": 7,
     "metadata": {},
     "output_type": "execute_result"
    }
   ],
   "source": [
    "list(map(lambda x:x*x,lst))"
   ]
  },
  {
   "cell_type": "code",
   "execution_count": 8,
   "id": "ff012651",
   "metadata": {},
   "outputs": [],
   "source": [
    "l1=[\"  m\", \" a \",\"c  \"]"
   ]
  },
  {
   "cell_type": "code",
   "execution_count": 9,
   "id": "1f10fe31",
   "metadata": {},
   "outputs": [
    {
     "data": {
      "text/plain": [
       "['m', 'a', 'c']"
      ]
     },
     "execution_count": 9,
     "metadata": {},
     "output_type": "execute_result"
    }
   ],
   "source": [
    "list(map(lambda x:x.strip(),l1))"
   ]
  },
  {
   "cell_type": "code",
   "execution_count": 10,
   "id": "d91516cc",
   "metadata": {},
   "outputs": [
    {
     "data": {
      "text/plain": [
       "[10, 20, 30]"
      ]
     },
     "execution_count": 10,
     "metadata": {},
     "output_type": "execute_result"
    }
   ],
   "source": [
    "dict={\"a\":10,\"b\":20,\"c\":30}\n",
    "list (map(lambda x:dict[x],dict))"
   ]
  },
  {
   "cell_type": "code",
   "execution_count": 21,
   "id": "e44ef967",
   "metadata": {},
   "outputs": [
    {
     "data": {
      "text/plain": [
       "['a', 'AbAb', 'acacac', 'adadadad', 'eeeee']"
      ]
     },
     "execution_count": 21,
     "metadata": {},
     "output_type": "execute_result"
    }
   ],
   "source": [
    "lst=[1,2,3,4,5]\n",
    "lst2=[\"a\",\"Ab\",\"ac\",\"ad\",\"e\",\"f\"]\n",
    "list(map(lambda x,y:x*y,lst,lst2))"
   ]
  },
  {
   "cell_type": "code",
   "execution_count": 13,
   "id": "a9376a46",
   "metadata": {},
   "outputs": [
    {
     "data": {
      "text/plain": [
       "[40, 50, 60]"
      ]
     },
     "execution_count": 13,
     "metadata": {},
     "output_type": "execute_result"
    }
   ],
   "source": [
    "lst=[10,20,30,40,50,60]\n",
    "list(filter(lambda x:x>30,lst) )"
   ]
  },
  {
   "cell_type": "code",
   "execution_count": 28,
   "id": "5cf780bc",
   "metadata": {},
   "outputs": [
    {
     "data": {
      "text/plain": [
       "['e', 'f']"
      ]
     },
     "execution_count": 28,
     "metadata": {},
     "output_type": "execute_result"
    }
   ],
   "source": [
    "list(filter(lambda x: (x[0]!=\"a\") and (x[0]!=\"A\"),lst2))"
   ]
  },
  {
   "cell_type": "code",
   "execution_count": 30,
   "id": "a9309624",
   "metadata": {},
   "outputs": [
    {
     "data": {
      "text/plain": [
       "['a', 'ac', 'ad']"
      ]
     },
     "execution_count": 30,
     "metadata": {},
     "output_type": "execute_result"
    }
   ],
   "source": [
    "list(filter(lambda x:\"a\" in x,lst2))"
   ]
  },
  {
   "cell_type": "code",
   "execution_count": 31,
   "id": "458d05f1",
   "metadata": {},
   "outputs": [],
   "source": [
    "from functools import reduce\n"
   ]
  },
  {
   "cell_type": "code",
   "execution_count": 36,
   "id": "3f426875",
   "metadata": {},
   "outputs": [
    {
     "data": {
      "text/plain": [
       "120"
      ]
     },
     "execution_count": 36,
     "metadata": {},
     "output_type": "execute_result"
    }
   ],
   "source": [
    "reduce(lambda x,y:x*y,lst)"
   ]
  },
  {
   "cell_type": "code",
   "execution_count": 35,
   "id": "450c62c2",
   "metadata": {},
   "outputs": [
    {
     "data": {
      "text/plain": [
       "'aAbacadef'"
      ]
     },
     "execution_count": 35,
     "metadata": {},
     "output_type": "execute_result"
    }
   ],
   "source": [
    "reduce(lambda x,y:x+y,lst2)"
   ]
  },
  {
   "cell_type": "code",
   "execution_count": 57,
   "id": "44dd1d95",
   "metadata": {},
   "outputs": [
    {
     "data": {
      "text/plain": [
       "9"
      ]
     },
     "execution_count": 57,
     "metadata": {},
     "output_type": "execute_result"
    }
   ],
   "source": [
    "reduce(lambda x,y:len(x)+len(y) if type(x) is str else x+len(y),lst2)"
   ]
  },
  {
   "cell_type": "code",
   "execution_count": 76,
   "id": "29b50c5a",
   "metadata": {},
   "outputs": [],
   "source": [
    "data = [\n",
    "    {\"name\": \"Rohit\", \"amount\": 500, \"status\": \"success\"},\n",
    "    {\"name\": \"Priya\", \"amount\": 1200, \"status\": \"failed\"},\n",
    "    {\"name\": \"Aman\", \"amount\": 700, \"status\": \"success\"},\n",
    "    {\"name\": \"Neha\", \"amount\": 1500, \"status\": \"pending\"},\n",
    "    {\"name\": \"Rahul\", \"amount\": 300, \"status\": \"success\"},\n",
    "    {\"name\": \"Sita\", \"amount\": 2000, \"status\": \"failed\"},\n",
    "    {\"name\": \"Arjun\", \"amount\": 950, \"status\": \"success\"}\n",
    "]"
   ]
  },
  {
   "cell_type": "code",
   "execution_count": 77,
   "id": "dee68333",
   "metadata": {},
   "outputs": [
    {
     "data": {
      "text/plain": [
       "[{'name': 'Rohit', 'amount': 500, 'status': 'success'},\n",
       " {'name': 'Aman', 'amount': 700, 'status': 'success'},\n",
       " {'name': 'Rahul', 'amount': 300, 'status': 'success'},\n",
       " {'name': 'Arjun', 'amount': 950, 'status': 'success'}]"
      ]
     },
     "execution_count": 77,
     "metadata": {},
     "output_type": "execute_result"
    }
   ],
   "source": [
    "success_lst=list(filter (lambda x:x[\"status\"]==\"success\",data))\n",
    "success_lst"
   ]
  },
  {
   "cell_type": "code",
   "execution_count": 78,
   "id": "a3dc050b",
   "metadata": {},
   "outputs": [
    {
     "data": {
      "text/plain": [
       "[500, 1200, 700, 1500, 300, 2000, 950]"
      ]
     },
     "execution_count": 78,
     "metadata": {},
     "output_type": "execute_result"
    }
   ],
   "source": [
    "map_lst=list(map(lambda x:x[\"amount\"],data))\n",
    "map_lst"
   ]
  },
  {
   "cell_type": "code",
   "execution_count": 79,
   "id": "d8e0b09d",
   "metadata": {},
   "outputs": [
    {
     "data": {
      "text/plain": [
       "[500, 700, 300, 950]"
      ]
     },
     "execution_count": 79,
     "metadata": {},
     "output_type": "execute_result"
    }
   ],
   "source": [
    "map_lst=list(map(lambda x:x[\"amount\"],success_lst))\n",
    "map_lst"
   ]
  },
  {
   "cell_type": "code",
   "execution_count": 80,
   "id": "d8a9cf3b",
   "metadata": {},
   "outputs": [
    {
     "data": {
      "text/plain": [
       "2450"
      ]
     },
     "execution_count": 80,
     "metadata": {},
     "output_type": "execute_result"
    }
   ],
   "source": [
    "reduce(lambda x,y:x+y,map_lst)"
   ]
  },
  {
   "cell_type": "code",
   "execution_count": null,
   "id": "94771d1a",
   "metadata": {},
   "outputs": [],
   "source": []
  }
 ],
 "metadata": {
  "kernelspec": {
   "display_name": "Python 3",
   "language": "python",
   "name": "python3"
  },
  "language_info": {
   "codemirror_mode": {
    "name": "ipython",
    "version": 3
   },
   "file_extension": ".py",
   "mimetype": "text/x-python",
   "name": "python",
   "nbconvert_exporter": "python",
   "pygments_lexer": "ipython3",
   "version": "3.11.5"
  }
 },
 "nbformat": 4,
 "nbformat_minor": 5
}
