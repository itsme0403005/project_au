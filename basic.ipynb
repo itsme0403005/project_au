{
 "cells": [
  {
   "cell_type": "code",
   "execution_count": null,
   "id": "acc0a8ab",
   "metadata": {},
   "outputs": [
    {
     "name": "stdout",
     "output_type": "stream",
     "text": [
      "6\n"
     ]
    }
   ],
   "source": [
    "a=2\n",
    "b=4\n",
    "c=a+b\n",
    "print(c)"
   ]
  },
  {
   "cell_type": "code",
   "execution_count": 8,
   "id": "8b36d867",
   "metadata": {},
   "outputs": [
    {
     "name": "stdout",
     "output_type": "stream",
     "text": [
      "33\n"
     ]
    }
   ],
   "source": [
    "a=input(\"Enter your first number\")\n",
    "b=input(\"Enter your second number\")\n",
    "c=a+b\n",
    "print(c)"
   ]
  },
  {
   "cell_type": "code",
   "execution_count": 9,
   "id": "5177e5da",
   "metadata": {},
   "outputs": [
    {
     "name": "stdout",
     "output_type": "stream",
     "text": [
      "6\n"
     ]
    }
   ],
   "source": [
    "a=int(input(\"Enter your first number\"))\n",
    "b=int(input(\"Enter your second number\"))\n",
    "c=a+b\n",
    "print(c)"
   ]
  },
  {
   "cell_type": "code",
   "execution_count": 1,
   "id": "0083f789",
   "metadata": {},
   "outputs": [],
   "source": [
    "a='hiii its me'  # Single line string\n",
    "b=\"Heyyy It's Me\" # Double line string\n",
    "c='''hey \n",
    "its\n",
    " me'''              # Multiple line string\n"
   ]
  },
  {
   "cell_type": "code",
   "execution_count": 13,
   "id": "783363d0",
   "metadata": {},
   "outputs": [
    {
     "data": {
      "text/plain": [
       "'HIII ITS ME'"
      ]
     },
     "execution_count": 13,
     "metadata": {},
     "output_type": "execute_result"
    }
   ],
   "source": [
    "a.upper()\n"
   ]
  },
  {
   "cell_type": "code",
   "execution_count": 2,
   "id": "487bf8fe",
   "metadata": {},
   "outputs": [
    {
     "data": {
      "text/plain": [
       "\"heyyy it's me\""
      ]
     },
     "execution_count": 2,
     "metadata": {},
     "output_type": "execute_result"
    }
   ],
   "source": [
    "b.lower()"
   ]
  },
  {
   "cell_type": "code",
   "execution_count": 3,
   "id": "ae04c101",
   "metadata": {},
   "outputs": [
    {
     "name": "stdout",
     "output_type": "stream",
     "text": [
      "7\n"
     ]
    }
   ],
   "source": [
    "a=3+\\\n",
    "4\n",
    "print(a)"
   ]
  },
  {
   "cell_type": "code",
   "execution_count": 4,
   "id": "5d28c902",
   "metadata": {},
   "outputs": [],
   "source": [
    "a='hiii it\\'s me' "
   ]
  },
  {
   "cell_type": "code",
   "execution_count": 5,
   "id": "f8da446a",
   "metadata": {},
   "outputs": [
    {
     "data": {
      "text/plain": [
       "2"
      ]
     },
     "execution_count": 5,
     "metadata": {},
     "output_type": "execute_result"
    }
   ],
   "source": [
    "True+True"
   ]
  },
  {
   "cell_type": "code",
   "execution_count": 7,
   "id": "19dc697b",
   "metadata": {},
   "outputs": [
    {
     "data": {
      "text/plain": [
       "-1"
      ]
     },
     "execution_count": 7,
     "metadata": {},
     "output_type": "execute_result"
    }
   ],
   "source": [
    "False-True"
   ]
  },
  {
   "cell_type": "code",
   "execution_count": 8,
   "id": "cf1672de",
   "metadata": {},
   "outputs": [
    {
     "data": {
      "text/plain": [
       "'sa'"
      ]
     },
     "execution_count": 8,
     "metadata": {},
     "output_type": "execute_result"
    }
   ],
   "source": [
    "\"s\"+\"a\""
   ]
  },
  {
   "cell_type": "code",
   "execution_count": 2,
   "id": "2a486c47",
   "metadata": {},
   "outputs": [
    {
     "data": {
      "text/plain": [
       "complex"
      ]
     },
     "execution_count": 2,
     "metadata": {},
     "output_type": "execute_result"
    }
   ],
   "source": [
    "a=3+5j\n",
    "type(a)"
   ]
  },
  {
   "cell_type": "code",
   "execution_count": 9,
   "id": "5e39a908",
   "metadata": {},
   "outputs": [
    {
     "data": {
      "text/plain": [
       "[1, 2, 'abc', 3.4]"
      ]
     },
     "execution_count": 9,
     "metadata": {},
     "output_type": "execute_result"
    }
   ],
   "source": [
    "# list\n",
    "a=[1,2,'abc',3.4]\n",
    "a"
   ]
  },
  {
   "cell_type": "code",
   "execution_count": 10,
   "id": "f8f36319",
   "metadata": {},
   "outputs": [],
   "source": [
    "a[2]=\"e\""
   ]
  },
  {
   "cell_type": "code",
   "execution_count": 13,
   "id": "a1c9457a",
   "metadata": {},
   "outputs": [
    {
     "data": {
      "text/plain": [
       "tuple"
      ]
     },
     "execution_count": 13,
     "metadata": {},
     "output_type": "execute_result"
    }
   ],
   "source": [
    "a=(1,)\n",
    "type(t)"
   ]
  },
  {
   "cell_type": "code",
   "execution_count": 4,
   "id": "bd277cca",
   "metadata": {},
   "outputs": [
    {
     "name": "stdout",
     "output_type": "stream",
     "text": [
      "10\n"
     ]
    }
   ],
   "source": [
    "x=10\n",
    "def add ():\n",
    "    print(x)\n",
    "add()\n",
    "\n"
   ]
  },
  {
   "cell_type": "code",
   "execution_count": 5,
   "id": "70d2189c",
   "metadata": {},
   "outputs": [
    {
     "name": "stdout",
     "output_type": "stream",
     "text": [
      "5\n"
     ]
    }
   ],
   "source": [
    "def add(x,y=2):\n",
    "    print(x+y)\n",
    "add(2,3)"
   ]
  },
  {
   "cell_type": "code",
   "execution_count": 9,
   "id": "3a8aa53e",
   "metadata": {},
   "outputs": [
    {
     "name": "stdout",
     "output_type": "stream",
     "text": [
      "33\n"
     ]
    }
   ],
   "source": [
    "def test (*args):\n",
    "    sum=0\n",
    "    for i in args:\n",
    "        sum=sum+i\n",
    "    print(sum)\n",
    "test(2,3,4,5,6,7,1,2,3)"
   ]
  },
  {
   "cell_type": "code",
   "execution_count": 10,
   "id": "c4451c13",
   "metadata": {},
   "outputs": [
    {
     "data": {
      "text/plain": [
       "83"
      ]
     },
     "execution_count": 10,
     "metadata": {},
     "output_type": "execute_result"
    }
   ],
   "source": [
    "def test (*args):\n",
    "    sum=0\n",
    "    for i in args:\n",
    "        sum=sum+i\n",
    "    return sum\n",
    "test(2,3,4,5,6,7,1,2,3)+50"
   ]
  },
  {
   "cell_type": "code",
   "execution_count": 11,
   "id": "2d948442",
   "metadata": {},
   "outputs": [
    {
     "data": {
      "text/plain": [
       "20"
      ]
     },
     "execution_count": 11,
     "metadata": {},
     "output_type": "execute_result"
    }
   ],
   "source": [
    "a=test\n",
    "a(2,3,4,5,6)"
   ]
  },
  {
   "cell_type": "code",
   "execution_count": 12,
   "id": "b67453e2",
   "metadata": {},
   "outputs": [
    {
     "data": {
      "text/plain": [
       "5"
      ]
     },
     "execution_count": 12,
     "metadata": {},
     "output_type": "execute_result"
    }
   ],
   "source": [
    "def test():\n",
    "    def a(x,y):\n",
    "        return x+y\n",
    "    return a\n",
    "test()(2,3)"
   ]
  },
  {
   "cell_type": "code",
   "execution_count": 17,
   "id": "b2ab6b92",
   "metadata": {},
   "outputs": [],
   "source": [
    "def test(x):\n",
    "    return x.strip()\n",
    "def a(x):\n",
    "    return x.upper()\n"
   ]
  },
  {
   "cell_type": "code",
   "execution_count": 20,
   "id": "65892f6d",
   "metadata": {},
   "outputs": [
    {
     "name": "stdout",
     "output_type": "stream",
     "text": [
      "heLLo\n",
      " HELLO \n"
     ]
    }
   ],
   "source": [
    "lst=[test,a]\n",
    "for i in lst:\n",
    "    c=\" heLLo \"\n",
    "    print(i(c))"
   ]
  },
  {
   "cell_type": "code",
   "execution_count": 1,
   "id": "2b74104d",
   "metadata": {},
   "outputs": [
    {
     "name": "stdout",
     "output_type": "stream",
     "text": [
      "1 1\n",
      "1 2\n",
      "2 1\n",
      "2 2\n",
      "3 1\n",
      "3 2\n"
     ]
    }
   ],
   "source": [
    "for i in range(1,4):\n",
    "    for j in range(1,3):\n",
    "        print(i,j)"
   ]
  },
  {
   "cell_type": "code",
   "execution_count": null,
   "id": "f335776c",
   "metadata": {},
   "outputs": [],
   "source": []
  }
 ],
 "metadata": {
  "kernelspec": {
   "display_name": "Python 3",
   "language": "python",
   "name": "python3"
  },
  "language_info": {
   "codemirror_mode": {
    "name": "ipython",
    "version": 3
   },
   "file_extension": ".py",
   "mimetype": "text/x-python",
   "name": "python",
   "nbconvert_exporter": "python",
   "pygments_lexer": "ipython3",
   "version": "3.11.5"
  }
 },
 "nbformat": 4,
 "nbformat_minor": 5
}
