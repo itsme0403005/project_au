{
 "cells": [
  {
   "cell_type": "code",
   "execution_count": 1,
   "id": "4977cf6c-47a9-4b60-a119-bfe0c2671c47",
   "metadata": {},
   "outputs": [],
   "source": [
    "s={1,2,3,4,1,\"as\"}"
   ]
  },
  {
   "cell_type": "code",
   "execution_count": 2,
   "id": "4906f20b-987f-42e7-98f0-de11fce42b23",
   "metadata": {},
   "outputs": [
    {
     "name": "stdout",
     "output_type": "stream",
     "text": [
      "{1, 2, 3, 4, 'as'}\n"
     ]
    }
   ],
   "source": [
    "print(s)"
   ]
  },
  {
   "cell_type": "code",
   "execution_count": 3,
   "id": "2b4ad5d0-f3b1-4c2e-bc09-a329584a431a",
   "metadata": {},
   "outputs": [],
   "source": [
    "lst=[2,3,2]"
   ]
  },
  {
   "cell_type": "code",
   "execution_count": 4,
   "id": "a2b040ef-87ca-46e8-b506-e6aeff42d97d",
   "metadata": {},
   "outputs": [
    {
     "name": "stdout",
     "output_type": "stream",
     "text": [
      "{2, 3}\n"
     ]
    }
   ],
   "source": [
    "print(set(lst))"
   ]
  },
  {
   "cell_type": "code",
   "execution_count": 8,
   "id": "e2aee86c-a955-4490-a8f7-978a2d0bb7cd",
   "metadata": {},
   "outputs": [],
   "source": [
    "s.update([2,3,5])"
   ]
  },
  {
   "cell_type": "code",
   "execution_count": 9,
   "id": "897e0a64-1914-4d22-8812-d8131d054166",
   "metadata": {},
   "outputs": [
    {
     "data": {
      "text/plain": [
       "{1, 2, 3, 4, 5, 'as'}"
      ]
     },
     "execution_count": 9,
     "metadata": {},
     "output_type": "execute_result"
    }
   ],
   "source": [
    "s"
   ]
  },
  {
   "cell_type": "code",
   "execution_count": 11,
   "id": "e6c42a1b-8461-4bf1-8338-6ff8d2675d0c",
   "metadata": {},
   "outputs": [],
   "source": [
    "s=\"Hii\""
   ]
  },
  {
   "cell_type": "code",
   "execution_count": 13,
   "id": "4d48a44d-e553-4e6e-b08a-39b0fff76f1c",
   "metadata": {},
   "outputs": [
    {
     "data": {
      "text/plain": [
       "'Cii'"
      ]
     },
     "execution_count": 13,
     "metadata": {},
     "output_type": "execute_result"
    }
   ],
   "source": [
    "s.replace(\"H\",\"C\")"
   ]
  },
  {
   "cell_type": "code",
   "execution_count": 15,
   "id": "f0411f7d-cf73-4da7-b1c9-c1108e273ccf",
   "metadata": {},
   "outputs": [
    {
     "data": {
      "text/plain": [
       "'Hii'"
      ]
     },
     "execution_count": 15,
     "metadata": {},
     "output_type": "execute_result"
    }
   ],
   "source": [
    "s"
   ]
  },
  {
   "cell_type": "code",
   "execution_count": 16,
   "id": "0f1f8e36-487a-425e-a44c-1a2a98e53e6d",
   "metadata": {},
   "outputs": [
    {
     "data": {
      "text/plain": [
       "[[2, 34], 'as']"
      ]
     },
     "execution_count": 16,
     "metadata": {},
     "output_type": "execute_result"
    }
   ],
   "source": [
    "[[2,34],'as']"
   ]
  },
  {
   "cell_type": "code",
   "execution_count": 17,
   "id": "a5ebf2b1-b062-445e-af89-0bd31da08baa",
   "metadata": {},
   "outputs": [],
   "source": [
    "tuple=(2,3,4,5,5)"
   ]
  },
  {
   "cell_type": "code",
   "execution_count": 18,
   "id": "d89480b1-9b8b-4330-899e-42dbb7297a33",
   "metadata": {},
   "outputs": [
    {
     "data": {
      "text/plain": [
       "2"
      ]
     },
     "execution_count": 18,
     "metadata": {},
     "output_type": "execute_result"
    }
   ],
   "source": [
    "tuple[0]"
   ]
  },
  {
   "cell_type": "code",
   "execution_count": 19,
   "id": "e1a0d992-1cf7-48be-b3e7-241575dc7845",
   "metadata": {},
   "outputs": [],
   "source": [
    "t2=(4)"
   ]
  },
  {
   "cell_type": "code",
   "execution_count": 20,
   "id": "dfb4523f-5b6b-4829-8228-efb813355f14",
   "metadata": {},
   "outputs": [
    {
     "data": {
      "text/plain": [
       "int"
      ]
     },
     "execution_count": 20,
     "metadata": {},
     "output_type": "execute_result"
    }
   ],
   "source": [
    "type(t2)"
   ]
  },
  {
   "cell_type": "code",
   "execution_count": 23,
   "id": "8fdbdae1-01ca-43ad-b909-aa9439e503cd",
   "metadata": {},
   "outputs": [
    {
     "data": {
      "text/plain": [
       "tuple"
      ]
     },
     "execution_count": 23,
     "metadata": {},
     "output_type": "execute_result"
    }
   ],
   "source": [
    "type(tuple)"
   ]
  },
  {
   "cell_type": "code",
   "execution_count": 25,
   "id": "645672a1-abeb-457c-ab8f-a67f5fe62385",
   "metadata": {},
   "outputs": [
    {
     "data": {
      "text/plain": [
       "[[1, 1, 1],\n",
       " [1, 1, 2],\n",
       " [1, 2, 1],\n",
       " [1, 2, 2],\n",
       " [2, 1, 1],\n",
       " [2, 1, 2],\n",
       " [2, 2, 1],\n",
       " [2, 2, 2]]"
      ]
     },
     "execution_count": 25,
     "metadata": {},
     "output_type": "execute_result"
    }
   ],
   "source": [
    "n=[[i,j,k]for i in range(1,3) for j in range(1,3) for k in range(1,3)]\n",
    "n"
   ]
  },
  {
   "cell_type": "code",
   "execution_count": 27,
   "id": "aae22e33-b9b2-4b02-9426-b5598aafcf33",
   "metadata": {},
   "outputs": [
    {
     "data": {
      "text/plain": [
       "[[1, 1, 1],\n",
       " [1, 1, 2],\n",
       " [1, 2, 1],\n",
       " [1, 2, 2],\n",
       " [2, 1, 1],\n",
       " [2, 1, 2],\n",
       " [2, 2, 1],\n",
       " [2, 2, 2]]"
      ]
     },
     "execution_count": 27,
     "metadata": {},
     "output_type": "execute_result"
    }
   ],
   "source": [
    "lst=[] \n",
    "for i in range(1,3):\n",
    "    for j in range(1,3):\n",
    "        for k in range(1,3):\n",
    "            lst.append([i,j,k])\n",
    "lst"
   ]
  },
  {
   "cell_type": "code",
   "execution_count": 28,
   "id": "7fa0731d-7f3f-4875-904d-a76af24d83bb",
   "metadata": {},
   "outputs": [],
   "source": [
    "a=lambda x,y:x+y"
   ]
  },
  {
   "cell_type": "code",
   "execution_count": 29,
   "id": "af615162-0b05-4693-87e7-e0a6864806bc",
   "metadata": {},
   "outputs": [
    {
     "data": {
      "text/plain": [
       "9"
      ]
     },
     "execution_count": 29,
     "metadata": {},
     "output_type": "execute_result"
    }
   ],
   "source": [
    "a(4,5)"
   ]
  },
  {
   "cell_type": "code",
   "execution_count": 30,
   "id": "08a85323-b65b-4616-bc11-6da5b07dece6",
   "metadata": {},
   "outputs": [],
   "source": [
    "t=lambda m:m*m"
   ]
  },
  {
   "cell_type": "code",
   "execution_count": 31,
   "id": "f5b9ca18-f4ec-4b69-ab5f-74c52ee68aac",
   "metadata": {},
   "outputs": [
    {
     "data": {
      "text/plain": [
       "16"
      ]
     },
     "execution_count": 31,
     "metadata": {},
     "output_type": "execute_result"
    }
   ],
   "source": [
    "t(4)"
   ]
  },
  {
   "cell_type": "code",
   "execution_count": 32,
   "id": "260e8dfe-8600-48f9-96d6-05a1b9870a45",
   "metadata": {},
   "outputs": [],
   "source": [
    "j=lambda x,y:x-y if x>y else x+y"
   ]
  },
  {
   "cell_type": "code",
   "execution_count": 33,
   "id": "c994f9fb-3d20-46d9-89c2-00025977279e",
   "metadata": {},
   "outputs": [
    {
     "data": {
      "text/plain": [
       "9"
      ]
     },
     "execution_count": 33,
     "metadata": {},
     "output_type": "execute_result"
    }
   ],
   "source": [
    "j(4,5)"
   ]
  },
  {
   "cell_type": "code",
   "execution_count": 34,
   "id": "cda7c7b5-84f2-4775-a784-cd40b81bb834",
   "metadata": {},
   "outputs": [],
   "source": [
    "h=[3,1,0,4]"
   ]
  },
  {
   "cell_type": "code",
   "execution_count": 35,
   "id": "8041d3f1-9ea5-4eb4-910a-4cfc6785d0aa",
   "metadata": {},
   "outputs": [
    {
     "data": {
      "text/plain": [
       "[0, 1, 3, 4]"
      ]
     },
     "execution_count": 35,
     "metadata": {},
     "output_type": "execute_result"
    }
   ],
   "source": [
    "sorted(h)"
   ]
  },
  {
   "cell_type": "code",
   "execution_count": 36,
   "id": "57ca6c11-16a3-406e-bf70-51b770fe7acc",
   "metadata": {},
   "outputs": [],
   "source": [
    "name_age=[(\"a\",81),(\"b\",40),(\"c\",12)]"
   ]
  },
  {
   "cell_type": "code",
   "execution_count": 37,
   "id": "2d4ba7e8-29ba-41bd-b0f8-1a62c8472584",
   "metadata": {},
   "outputs": [],
   "source": [
    "def test(x):\n",
    "    return len(x[0])"
   ]
  },
  {
   "cell_type": "code",
   "execution_count": 38,
   "id": "7079b1b2-4d0d-4b92-b78a-ac99602a73d6",
   "metadata": {},
   "outputs": [
    {
     "data": {
      "text/plain": [
       "[('a', 81), ('b', 40), ('c', 12)]"
      ]
     },
     "execution_count": 38,
     "metadata": {},
     "output_type": "execute_result"
    }
   ],
   "source": [
    "sorted(name_age,key=test)"
   ]
  },
  {
   "cell_type": "code",
   "execution_count": 39,
   "id": "2de859b7-dc98-4d3f-93f2-9fff4b2fdf14",
   "metadata": {},
   "outputs": [
    {
     "data": {
      "text/plain": [
       "[('c', 12), ('b', 40), ('a', 81)]"
      ]
     },
     "execution_count": 39,
     "metadata": {},
     "output_type": "execute_result"
    }
   ],
   "source": [
    "sorted(name_age,key=lambda x: x[1])"
   ]
  }
 ],
 "metadata": {
  "kernelspec": {
   "display_name": "Python 3",
   "language": "python",
   "name": "python3"
  },
  "language_info": {
   "codemirror_mode": {
    "name": "ipython",
    "version": 3
   },
   "file_extension": ".py",
   "mimetype": "text/x-python",
   "name": "python",
   "nbconvert_exporter": "python",
   "pygments_lexer": "ipython3",
   "version": "3.11.5"
  }
 },
 "nbformat": 4,
 "nbformat_minor": 5
}
