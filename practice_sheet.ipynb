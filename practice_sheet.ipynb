{
 "cells": [
  {
   "cell_type": "code",
   "execution_count": 24,
   "id": "d06649ac",
   "metadata": {},
   "outputs": [
    {
     "name": "stdout",
     "output_type": "stream",
     "text": [
      "7\n"
     ]
    }
   ],
   "source": [
    "num =int(input(\"Enter three digit number\"))   \n",
    "a=num%10\n",
    "num=num//10\n",
    "b=num%10\n",
    "num=num//10\n",
    "c=num%10\n",
    "sum=a+b+c\n",
    "print(sum)\n",
    "\n"
   ]
  },
  {
   "cell_type": "code",
   "execution_count": 25,
   "id": "5105287a",
   "metadata": {},
   "outputs": [
    {
     "name": "stdout",
     "output_type": "stream",
     "text": [
      "Number before swapping 2 3\n",
      "Number after swapping  3 2\n"
     ]
    }
   ],
   "source": [
    "a=int(input(\"Enter the first number\"))\n",
    "b=int(input(\"Enter second number\"))\n",
    "def swap_num(a,b):\n",
    "    a=a+b\n",
    "    b=a-b\n",
    "    a=a-b\n",
    "    return a,b\n",
    "print(\"Number before swapping\",a,b)\n",
    "a,b=swap_num(a,b)\n",
    "print(\"Number after swapping \",a,b)"
   ]
  },
  {
   "cell_type": "code",
   "execution_count": 26,
   "id": "cb1bf426",
   "metadata": {},
   "outputs": [
    {
     "name": "stdout",
     "output_type": "stream",
     "text": [
      "Adult\n"
     ]
    }
   ],
   "source": [
    "a=int(input(\"Enter your age\"))\n",
    "if a>18:\n",
    "    print(\"Adult\")\n",
    "if a>30:\n",
    "    print(\"mid age\")\n",
    "if a>50:\n",
    "    print(\"old age\")\n"
   ]
  },
  {
   "cell_type": "code",
   "execution_count": 27,
   "id": "73698183",
   "metadata": {},
   "outputs": [
    {
     "name": "stdout",
     "output_type": "stream",
     "text": [
      "Adult\n"
     ]
    }
   ],
   "source": [
    "a=int(input(\"Enter your age\"))\n",
    "if a>18:\n",
    "    print(\"Adult\")\n",
    "elif a>30:\n",
    "    print(\"mid age\")\n",
    "elif a>50:\n",
    "    print(\"old age\")"
   ]
  },
  {
   "cell_type": "code",
   "execution_count": 28,
   "id": "5d46dead",
   "metadata": {},
   "outputs": [
    {
     "name": "stdout",
     "output_type": "stream",
     "text": [
      "Adult\n"
     ]
    }
   ],
   "source": [
    "a=int(input(\"Enter your age\"))\n",
    "if a>18:\n",
    "    print(\"Adult\")\n",
    "elif a>30:\n",
    "    print(\"mid age\")\n",
    "elif a>50:\n",
    "    print(\"old age\")\n",
    "else:\n",
    "    print(\"child\")\n"
   ]
  },
  {
   "cell_type": "code",
   "execution_count": 29,
   "id": "5247ff20",
   "metadata": {},
   "outputs": [
    {
     "name": "stdout",
     "output_type": "stream",
     "text": [
      "welcome after 1st attempt\n"
     ]
    }
   ],
   "source": [
    "email=\"abc@gmail.com\"\n",
    "password=\"abcdefg\"\n",
    "user_email=input(\"Enter your email\")\n",
    "user_password=input(\"Enter your password\")\n",
    "if (user_email==email and user_password==password):\n",
    "    print(\"Welcome user\")\n",
    "elif (user_email==email and user_password!=password):\n",
    "    new_password=input(\"enter correct password\")\n",
    "    if new_password==password:\n",
    "        print(\"welcome after 1st attempt\")\n",
    "    else:\n",
    "        print(\"i don't think so you can do this\")\n",
    "else:\n",
    "    print(\"verify your mail once again\")\n",
    "    "
   ]
  },
  {
   "cell_type": "code",
   "execution_count": 30,
   "id": "bdfad12b",
   "metadata": {},
   "outputs": [
    {
     "name": "stdout",
     "output_type": "stream",
     "text": [
      "hii\n"
     ]
    }
   ],
   "source": [
    "if True:\n",
    "    print(\"hii\")"
   ]
  },
  {
   "cell_type": "code",
   "execution_count": 31,
   "id": "876f7fd1",
   "metadata": {},
   "outputs": [
    {
     "name": "stdout",
     "output_type": "stream",
     "text": [
      " hii its me Muskan Gupta,currently i am learning python\n"
     ]
    }
   ],
   "source": [
    "a=\" hii its me Muskan Gupta\"\n",
    "b=\"currently i am learning python\"\n",
    "x=f\"{a},{b}\"\n",
    "print(x)"
   ]
  },
  {
   "cell_type": "code",
   "execution_count": 32,
   "id": "a9f150d3",
   "metadata": {},
   "outputs": [
    {
     "name": "stdout",
     "output_type": "stream",
     "text": [
      "p hi\n",
      "y hi\n",
      "t hi\n",
      "h hi\n",
      "o hi\n",
      "n hi\n"
     ]
    }
   ],
   "source": [
    "for i in \"python\":\n",
    "     print(i,\"hi\")"
   ]
  },
  {
   "cell_type": "code",
   "execution_count": 33,
   "id": "c5d2d061",
   "metadata": {},
   "outputs": [],
   "source": [
    "# for i in range 123:\n",
    "#     print(i)"
   ]
  },
  {
   "cell_type": "code",
   "execution_count": 34,
   "id": "037b251a",
   "metadata": {},
   "outputs": [
    {
     "name": "stdout",
     "output_type": "stream",
     "text": [
      "1\n",
      "2\n",
      "3\n",
      "4\n"
     ]
    }
   ],
   "source": [
    "for i in [1,2,3,4]:\n",
    "    print(i)"
   ]
  },
  {
   "cell_type": "code",
   "execution_count": null,
   "id": "43e04dd4",
   "metadata": {},
   "outputs": [
    {
     "name": "stdout",
     "output_type": "stream",
     "text": [
      "1\n",
      "3\n",
      "5\n",
      "7\n",
      "9\n"
     ]
    }
   ],
   "source": [
    "for i in range (1,11,2): # start ,end,step\n",
    "    print(i)"
   ]
  },
  {
   "cell_type": "code",
   "execution_count": 37,
   "id": "f67624cf",
   "metadata": {},
   "outputs": [
    {
     "name": "stdout",
     "output_type": "stream",
     "text": [
      "range(1, 11, 2)\n"
     ]
    }
   ],
   "source": [
    "a=range(1,11,2)\n",
    "print(a)"
   ]
  },
  {
   "cell_type": "code",
   "execution_count": null,
   "id": "6fc34128",
   "metadata": {},
   "outputs": [
    {
     "data": {
      "text/plain": [
       "[1, 3, 5, 7, 9]"
      ]
     },
     "execution_count": 39,
     "metadata": {},
     "output_type": "execute_result"
    }
   ],
   "source": [
    "[*a]"
   ]
  },
  {
   "cell_type": "code",
   "execution_count": 42,
   "id": "b51e0395",
   "metadata": {},
   "outputs": [
    {
     "data": {
      "text/plain": [
       "(1, 3, 5, 7, 9)"
      ]
     },
     "execution_count": 42,
     "metadata": {},
     "output_type": "execute_result"
    }
   ],
   "source": [
    "(*a,)"
   ]
  },
  {
   "cell_type": "code",
   "execution_count": 55,
   "id": "cbfbc44a",
   "metadata": {},
   "outputs": [
    {
     "name": "stdout",
     "output_type": "stream",
     "text": [
      "prime\n"
     ]
    }
   ],
   "source": [
    "a=int(input(\"enter the number\"))\n",
    "for i in range (2,a) :\n",
    "    if a%i==0:\n",
    "        print(\"not prime\")\n",
    "        break\n",
    "    else:\n",
    "        print(\"prime\")\n",
    "        break\n"
   ]
  },
  {
   "cell_type": "code",
   "execution_count": 2,
   "id": "e8123208",
   "metadata": {},
   "outputs": [
    {
     "name": "stdout",
     "output_type": "stream",
     "text": [
      "Prime\n"
     ]
    }
   ],
   "source": [
    "a=int(input(\"enter the number\"))\n",
    "for i in range(2, (a // 2 )+ 1):   \n",
    "    if a % i == 0:\n",
    "            print(\"Not prime\")\n",
    "            break\n",
    "    else:\n",
    "        print(\"Prime\")\n",
    "        break"
   ]
  },
  {
   "cell_type": "code",
   "execution_count": 72,
   "id": "94ec5746",
   "metadata": {},
   "outputs": [
    {
     "name": "stdout",
     "output_type": "stream",
     "text": [
      "prime\n"
     ]
    }
   ],
   "source": [
    "a=int(input(\"enter the number\"))\n",
    "for i in range (2,int(a**0.5)+1) :\n",
    "    if a%i==0:\n",
    "        print(\"not prime\")\n",
    "        break\n",
    "    else:\n",
    "        print(\"prime\")\n",
    "        break"
   ]
  },
  {
   "cell_type": "code",
   "execution_count": 74,
   "id": "54d7626a",
   "metadata": {},
   "outputs": [
    {
     "name": "stdout",
     "output_type": "stream",
     "text": [
      "hii\n",
      "hii\n",
      "hii\n"
     ]
    }
   ],
   "source": [
    "a=1\n",
    "while a<4:\n",
    "    print(\"hii\")\n",
    "    a+=1"
   ]
  },
  {
   "cell_type": "code",
   "execution_count": 75,
   "id": "3b236edb",
   "metadata": {},
   "outputs": [],
   "source": [
    "a=1\n",
    "while False:\n",
    "    print(\"hii\")\n",
    "    a+=1"
   ]
  },
  {
   "cell_type": "code",
   "execution_count": 4,
   "id": "3569fc30",
   "metadata": {},
   "outputs": [
    {
     "name": "stdout",
     "output_type": "stream",
     "text": [
      "26\n"
     ]
    }
   ],
   "source": [
    "a=int(input(\"Enter the number\"))\n",
    "while a>0:\n",
    "    num=int(input(\"enter new number\"))\n",
    "    if num>0:\n",
    "        a=a+num \n",
    "    else:\n",
    "        print (a)\n",
    "        break\n"
   ]
  },
  {
   "cell_type": "code",
   "execution_count": 1,
   "id": "ff5fa4d8",
   "metadata": {},
   "outputs": [
    {
     "name": "stdout",
     "output_type": "stream",
     "text": [
      "The sum of the numbers is: 57\n"
     ]
    }
   ],
   "source": [
    "num = int(input(\"Enter a number: \"))\n",
    "total = 0\n",
    "while num >= 0:\n",
    "    total += num\n",
    "    num = int(input(\"Enter a number: \"))\n",
    "print(\"The sum of the numbers is:\", total)"
   ]
  },
  {
   "cell_type": "code",
   "execution_count": 5,
   "id": "a2ac592b",
   "metadata": {},
   "outputs": [
    {
     "name": "stdout",
     "output_type": "stream",
     "text": [
      "1 hii\n",
      "3 hii\n",
      "4 hii\n"
     ]
    }
   ],
   "source": [
    "for i in range (1,5):\n",
    "    if i==2:\n",
    "        continue\n",
    "    print(i,\"hii\")"
   ]
  },
  {
   "cell_type": "code",
   "execution_count": 7,
   "id": "da331dc3",
   "metadata": {},
   "outputs": [
    {
     "name": "stdout",
     "output_type": "stream",
     "text": [
      "9\n"
     ]
    }
   ],
   "source": [
    "import random\n",
    "a=random.randint(1,11)\n",
    "print(a)"
   ]
  },
  {
   "cell_type": "code",
   "execution_count": 33,
   "id": "c17dd32c",
   "metadata": {},
   "outputs": [
    {
     "name": "stdout",
     "output_type": "stream",
     "text": [
      "choose a smaller number\n",
      "choose a smaller number\n",
      "choose a smaller number\n",
      "choose a smaller number\n",
      " choose a bigger number\n",
      "congrats you got it 4\n"
     ]
    }
   ],
   "source": [
    "a=random.randint(1,99)\n",
    "b=int(input(\"Guess the number\"))\n",
    "while True:\n",
    "    counter=0\n",
    "    if a==b :\n",
    "        print(\"congrats you got it\",a)\n",
    "        break\n",
    "    elif a>b:\n",
    "        print(\" choose a bigger number\")\n",
    "        b=int(input(\"Guess new number\"))\n",
    "        counter=+1\n",
    "    elif a<b :\n",
    "        print(\"choose a smaller number\")\n",
    "        b=int(input(\"Guess new number\"))\n",
    "        counter=+1\n",
    "    if counter==5:\n",
    "       print (\"correct number is:\",a)\n",
    "       print(\"restart the game\")"
   ]
  },
  {
   "cell_type": "code",
   "execution_count": 42,
   "id": "19cb327c",
   "metadata": {},
   "outputs": [
    {
     "name": "stdout",
     "output_type": "stream",
     "text": [
      "234\n",
      "432\n"
     ]
    }
   ],
   "source": [
    "num=int(input(\"Enter the number\"))\n",
    "print(num)\n",
    "rev=0\n",
    "while num>0:\n",
    " lst_dig=num%10\n",
    " rev=rev*10+lst_dig\n",
    " num=num//10\n",
    "print (rev)"
   ]
  },
  {
   "cell_type": "code",
   "execution_count": 55,
   "id": "49516fb4",
   "metadata": {},
   "outputs": [
    {
     "name": "stdout",
     "output_type": "stream",
     "text": [
      "race car\n",
      "r\n",
      "ar\n",
      "car\n",
      "ecar\n",
      " ecar\n",
      "c ecar\n",
      "ac ecar\n",
      "rac ecar\n",
      "string is not palindrome\n"
     ]
    }
   ],
   "source": [
    "a=str(input(\"Enter the string\"))\n",
    "print(a) \n",
    "rev=\"\"\n",
    "for i in a:\n",
    "    rev=i+rev\n",
    "    print(rev)\n",
    "if (a==rev):\n",
    "     print(\"string is palindrome\")\n",
    "else:\n",
    "     print(\"string is not palindrome\")\n",
    "    \n"
   ]
  },
  {
   "cell_type": "code",
   "execution_count": 23,
   "id": "38717709",
   "metadata": {},
   "outputs": [
    {
     "name": "stdout",
     "output_type": "stream",
     "text": [
      "1 1 1 1 \n",
      "2 2 2 \n",
      "3 3 \n",
      "4 \n"
     ]
    }
   ],
   "source": [
    "for  i in range (1,5):\n",
    "    for j in range(i,5):\n",
    "        print(i,end=\" \")\n",
    "    print()"
   ]
  },
  {
   "cell_type": "code",
   "execution_count": null,
   "id": "a1918f0e",
   "metadata": {},
   "outputs": [
    {
     "name": "stdout",
     "output_type": "stream",
     "text": [
      "1 \n",
      "1 2 \n",
      "1 2 3 \n",
      "1 2 3 4 \n"
     ]
    }
   ],
   "source": [
    "for  i in range (1,5):\n",
    "    for j in range(1,i+1):\n",
    "        print(j,end=\" \")\n",
    "    print()"
   ]
  },
  {
   "cell_type": "code",
   "execution_count": 28,
   "id": "8280ab9b",
   "metadata": {},
   "outputs": [
    {
     "name": "stdout",
     "output_type": "stream",
     "text": [
      "1 2 3 4 5 \n",
      "2 3 4 5 \n",
      "3 4 5 \n",
      "4 5 \n",
      "5 \n"
     ]
    }
   ],
   "source": [
    "for i in range (1,6):\n",
    "    for j in range (i,6):\n",
    "        print(j,end=\" \")\n",
    "    print()"
   ]
  },
  {
   "cell_type": "code",
   "execution_count": 45,
   "id": "dafb8f76",
   "metadata": {},
   "outputs": [
    {
     "name": "stdout",
     "output_type": "stream",
     "text": [
      "5 4 3 2 1 \n",
      "4 3 2 1 \n",
      "3 2 1 \n",
      "2 1 \n",
      "1 \n"
     ]
    }
   ],
   "source": [
    "a=int(input(\"Enter the number\"))\n",
    "for i in range (a,0,-1):\n",
    "    for j in range (i,0,-1):\n",
    "        print(j,end=\" \")\n",
    "    print()"
   ]
  },
  {
   "cell_type": "code",
   "execution_count": 114,
   "id": "93e9a884",
   "metadata": {},
   "outputs": [
    {
     "name": "stdout",
     "output_type": "stream",
     "text": [
      "     * \n",
      "    * * \n",
      "   * * * \n",
      "  * * * * \n",
      " * * * * * \n",
      "* * * * * * \n"
     ]
    }
   ],
   "source": [
    "n=int(input(\"Enter the number\"))\n",
    "for i in range (1,n+1):\n",
    "    for j in range (n-i):\n",
    "        print(\" \",end=\"\")\n",
    "    for k in range (i):\n",
    "        print(\"*\",end=\" \")\n",
    "    print()\n",
    "        \n",
    "        \n",
    "    \n",
    "        "
   ]
  },
  {
   "cell_type": "code",
   "execution_count": 3,
   "id": "45804beb",
   "metadata": {},
   "outputs": [
    {
     "name": "stdout",
     "output_type": "stream",
     "text": [
      "     *\n",
      "    * *\n",
      "   * * *\n"
     ]
    }
   ],
   "source": [
    "n=int(input(\"Enter the number\"))\n",
    "for i in range (1,n):\n",
    "    print(\" \"*(n-i),\" *\"*i )\n",
    "    \n",
    "    "
   ]
  },
  {
   "cell_type": "code",
   "execution_count": 6,
   "id": "d5c99fd4",
   "metadata": {},
   "outputs": [
    {
     "name": "stdout",
     "output_type": "stream",
     "text": [
      "     *\n",
      "    * *\n",
      "   * * *\n",
      "  * * * *\n",
      "   * * *\n",
      "    * *\n",
      "     *\n"
     ]
    }
   ],
   "source": [
    "n=int(input(\"Enter the number\"))\n",
    "for i in range (1,n):\n",
    "    print(\" \"*(n-i),\" *\"*i )\n",
    "for i in range (n,0,-1):\n",
    "    print(\" \"*(n-i),\" *\"*i )"
   ]
  },
  {
   "cell_type": "code",
   "execution_count": 20,
   "id": "e2515360",
   "metadata": {},
   "outputs": [
    {
     "name": "stdout",
     "output_type": "stream",
     "text": [
      "1 2 3\n",
      "1 3 2\n",
      "2 1 3\n",
      "2 3 1\n",
      "3 1 2\n",
      "3 2 1\n"
     ]
    }
   ],
   "source": [
    "for i in range (1,4):\n",
    "    for j in range (1,4):\n",
    "        for k in range (1,4):\n",
    "            if i!=j and j!=k and k!=i:\n",
    "                print(i,j,k)\n",
    "                "
   ]
  },
  {
   "cell_type": "code",
   "execution_count": 1,
   "id": "51dcbaad",
   "metadata": {},
   "outputs": [
    {
     "name": "stdout",
     "output_type": "stream",
     "text": [
      "1234\n",
      "<class 'int'>\n",
      "<class 'str'>\n"
     ]
    }
   ],
   "source": [
    "# convert a int into string without using str\n",
    "number=\"0123456789\"\n",
    "num=int(input(\"Enter Number\"))\n",
    "result=\"\" \n",
    "while num>0:\n",
    "    rem=num%10\n",
    "    rem=number[rem] \n",
    "    result=rem+result \n",
    "    num=num//10\n",
    "print(result)\n",
    "print(type(num))\n",
    "print(type(result))\n",
    "    \n",
    "\n",
    "\n"
   ]
  },
  {
   "cell_type": "code",
   "execution_count": 4,
   "id": "5254b104",
   "metadata": {},
   "outputs": [
    {
     "name": "stdout",
     "output_type": "stream",
     "text": [
      "2+22\n"
     ]
    },
    {
     "data": {
      "text/plain": [
       "24"
      ]
     },
     "execution_count": 4,
     "metadata": {},
     "output_type": "execute_result"
    }
   ],
   "source": [
    "start=2\n",
    "sum=0\n",
    "n=int(input(\"Enter Number of time\"))\n",
    "for i in range(n):\n",
    "    if i<n-1:\n",
    "        print(start,end=\"+\")\n",
    "    else:\n",
    "        print(start)\n",
    "    \n",
    "\n",
    "    sum=sum+start\n",
    "    start=start*10+2\n",
    "sum"
   ]
  },
  {
   "cell_type": "code",
   "execution_count": 5,
   "id": "92a82a6d",
   "metadata": {},
   "outputs": [
    {
     "name": "stdout",
     "output_type": "stream",
     "text": [
      "110000"
     ]
    }
   ],
   "source": [
    "number=int(input(\"Enter Number\"))\n",
    "lst_decimal=[] \n",
    "while number >0:\n",
    "    rem=number%2\n",
    "    lst_decimal.append(rem) \n",
    "    number=number//2 \n",
    "for ele in lst_decimal[::-1]:\n",
    "    print(ele,end=\"\")"
   ]
  },
  {
   "cell_type": "code",
   "execution_count": 6,
   "id": "1a60f955",
   "metadata": {},
   "outputs": [
    {
     "name": "stdout",
     "output_type": "stream",
     "text": [
      "4\n"
     ]
    }
   ],
   "source": [
    "x=int(input(\"Enter First Number\"))\n",
    "y=int(input(\"Enter second Number\"))\n",
    "if x>y:\n",
    "    greater=x\n",
    "else:\n",
    "    greater=y\n",
    "while True:\n",
    "    if (greater%x==0) and (greater%y==0):\n",
    "        lcm=greater \n",
    "        print(lcm) \n",
    "        break \n",
    "    greater+=1"
   ]
  },
  {
   "cell_type": "code",
   "execution_count": 7,
   "id": "8877e3c6",
   "metadata": {},
   "outputs": [
    {
     "name": "stdout",
     "output_type": "stream",
     "text": [
      "2\n"
     ]
    }
   ],
   "source": [
    "x=int(input(\"enter number\"))\n",
    "y=int(input(\"enter number\"))\n",
    "if x<y:\n",
    "    smaller=x\n",
    "else:\n",
    "    smaller=y \n",
    "for i in range(2,smaller+1):\n",
    "    if (x%i==0) and (y%i==0):\n",
    "        hcf=i \n",
    "print(hcf) \n",
    "        "
   ]
  },
  {
   "cell_type": "code",
   "execution_count": null,
   "id": "0db8ee91",
   "metadata": {},
   "outputs": [],
   "source": []
  }
 ],
 "metadata": {
  "kernelspec": {
   "display_name": "Python 3",
   "language": "python",
   "name": "python3"
  },
  "language_info": {
   "codemirror_mode": {
    "name": "ipython",
    "version": 3
   },
   "file_extension": ".py",
   "mimetype": "text/x-python",
   "name": "python",
   "nbconvert_exporter": "python",
   "pygments_lexer": "ipython3",
   "version": "3.11.5"
  }
 },
 "nbformat": 4,
 "nbformat_minor": 5
}
