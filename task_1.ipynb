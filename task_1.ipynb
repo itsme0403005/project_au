{
 "cells": [
  {
   "cell_type": "markdown",
   "id": "fa16535e",
   "metadata": {},
   "source": [
    "* Task 1.1 Print the given string as per stated format\n",
    " :- \"Data\" \"Science\" \"Mentorship\" \"Program\"\n",
    " \"By\" \"CampusX\"\n",
    "  * Data-Science-Mentorship-Program-started-By-CampusX"
   ]
  },
  {
   "cell_type": "code",
   "execution_count": 5,
   "id": "956b179a",
   "metadata": {},
   "outputs": [
    {
     "name": "stdout",
     "output_type": "stream",
     "text": [
      "Data-Science-Mentorship-Program-started-By-CampusX\n"
     ]
    }
   ],
   "source": [
    "print( \"Data\" ,\"Science\", \"Mentorship\", \"Program\",sep=\"-\",end=\"-started-\")\n",
    "print(\"By\",\"CampusX\",sep=\"-\")"
   ]
  },
  {
   "cell_type": "markdown",
   "id": "33e840f8",
   "metadata": {},
   "source": [
    "* Task 1.2 Write a program that will convert celsius value to fahrenheit."
   ]
  },
  {
   "cell_type": "code",
   "execution_count": 2,
   "id": "ae421375",
   "metadata": {},
   "outputs": [
    {
     "data": {
      "text/plain": [
       "89.6"
      ]
     },
     "execution_count": 2,
     "metadata": {},
     "output_type": "execute_result"
    }
   ],
   "source": [
    "a=float(input(\"Enter the celsius\"))\n",
    "def fahrenheit(a):\n",
    "    b=a*1.8+32\n",
    "    return b\n",
    "fahrenheit(a)"
   ]
  },
  {
   "cell_type": "markdown",
   "id": "4dd9076d",
   "metadata": {},
   "source": [
    "* Task 1.3 Take 2 numbers as input from the user.Write a program to swap \n",
    "the numbers without using any special python syntax."
   ]
  },
  {
   "cell_type": "code",
   "execution_count": 13,
   "id": "4fce8b71",
   "metadata": {},
   "outputs": [
    {
     "name": "stdout",
     "output_type": "stream",
     "text": [
      "Number before swapping: 4 5\n",
      "Number after swapping: 5 4\n"
     ]
    }
   ],
   "source": [
    "a=input(\"Enter the first number:\")\n",
    "b=input(\"Enter the second number:\")\n",
    "def swap_number(a,b):\n",
    "    a,b=b,a\n",
    "    return a,b\n",
    "print(\"Number before swapping:\",a,b)\n",
    "a,b=swap_number(a,b)\n",
    "print(\"Number after swapping:\",a,b)"
   ]
  },
  {
   "cell_type": "code",
   "execution_count": 19,
   "id": "e246922b",
   "metadata": {},
   "outputs": [
    {
     "name": "stdout",
     "output_type": "stream",
     "text": [
      "Number before swapping 3 4\n",
      "Number after swapping 4 3\n"
     ]
    }
   ],
   "source": [
    "a = int(input(\"Enter the first number \"))\n",
    "b = int(input(\"Enter the second number \"))\n",
    "print(\"Number before swapping\", a, b)\n",
    "a = a + b\n",
    "b = a - b\n",
    "a = a - b\n",
    "print(\"Number after swapping\", a, b)\n"
   ]
  },
  {
   "cell_type": "markdown",
   "id": "a1bbd09d",
   "metadata": {},
   "source": [
    "* Task  1.4 Write a program to find the euclidean distance between two \n",
    "coordinates.Take both the coordinates from the user as input."
   ]
  },
  {
   "cell_type": "code",
   "execution_count": 22,
   "id": "4eb1076f",
   "metadata": {},
   "outputs": [
    {
     "name": "stdout",
     "output_type": "stream",
     "text": [
      "The Euclidean distance between the two points is 0.0\n"
     ]
    }
   ],
   "source": [
    "\n",
    "import math\n",
    "x1 = float(input(\"Enter the x1 \"))\n",
    "y1 = float(input(\"Enter the y1 \"))\n",
    "x2 = float(input(\"Enter the x2 \"))\n",
    "y2 = float(input(\"Enter the y2 \"))\n",
    "def euclidean_distance(x1, y1, x2, y2):\n",
    "    distance = math.sqrt((x2 - x1) ** 2 + (y2 - y1) ** 2)\n",
    "    return distance\n",
    "distance = euclidean_distance(x1, y1, x2, y2)\n",
    "print(\"The Euclidean distance between the two points is\", distance)"
   ]
  },
  {
   "cell_type": "markdown",
   "id": "511485ef",
   "metadata": {},
   "source": [
    "* Task 1.5 Write a program to find the simple interest when the value of \n",
    "principle,rate of interest and time period is provided by the user."
   ]
  },
  {
   "cell_type": "code",
   "execution_count": 27,
   "id": "8d16c8b2",
   "metadata": {},
   "outputs": [
    {
     "name": "stdout",
     "output_type": "stream",
     "text": [
      "The simple interest is 60.0\n"
     ]
    }
   ],
   "source": [
    "principle = float(input(\"Enter the principle amount \"))\n",
    "rate = float(input(\"Enter the rate \"))\n",
    "time = float(input(\"Enter the time \"))\n",
    "def simple_interest(principle, rate, time):\n",
    "    interest = (principle * rate * time) / 100\n",
    "    return interest\n",
    "interest = simple_interest(principle, rate, time)\n",
    "print(\"The simple interest is\", interest)"
   ]
  },
  {
   "cell_type": "markdown",
   "id": "7a5065aa",
   "metadata": {},
   "source": [
    "* Task 1.6 - Write a program that will tell the number of dogs and chicken are \n",
    "there when the user will provide the value of total heads and legs."
   ]
  },
  {
   "cell_type": "code",
   "execution_count": null,
   "id": "d42f3df7",
   "metadata": {},
   "outputs": [],
   "source": [
    "heads=input(\"Enter the number of heads\")\n",
    "legs=input(\"Enter the number of legs\")\n",
    "def chicken_dogs(heads,legs):\n",
    "    "
   ]
  },
  {
   "cell_type": "markdown",
   "id": "763731ee",
   "metadata": {},
   "source": [
    "* Task 1.7 - Write a program to find the sum of squares of first n natural \n",
    "numbers where n will be provided by the user."
   ]
  },
  {
   "cell_type": "code",
   "execution_count": 29,
   "id": "11735529",
   "metadata": {},
   "outputs": [
    {
     "data": {
      "text/plain": [
       "14"
      ]
     },
     "execution_count": 29,
     "metadata": {},
     "output_type": "execute_result"
    }
   ],
   "source": [
    "n=int(input(\"Enter the number\"))\n",
    "def sum_square(n):\n",
    "    sum=0\n",
    "    for i in range(1,n+1):\n",
    "        sum+=i**2\n",
    "    return sum\n",
    "sum_square(n)"
   ]
  },
  {
   "cell_type": "markdown",
   "id": "6e007daf",
   "metadata": {},
   "source": [
    "* Task 1.8  Given the first 2 terms of an Arithmetic Series.Find the Nth term \n",
    "of the series. Assume all inputs are provided by the user."
   ]
  },
  {
   "cell_type": "code",
   "execution_count": 25,
   "id": "af221f75",
   "metadata": {},
   "outputs": [
    {
     "data": {
      "text/plain": [
       "12"
      ]
     },
     "execution_count": 25,
     "metadata": {},
     "output_type": "execute_result"
    }
   ],
   "source": [
    "a1=int(input(\"Enter the first number\"))\n",
    "a2=int(input(\"Enter the second number\"))\n",
    "n=int(input(\"Enter the number\"))\n",
    "def nth_number(a1,a2,n):\n",
    "    return a1+(n-1)*(a2-a1)\n",
    "nth_number(a1,a2,n)"
   ]
  },
  {
   "cell_type": "markdown",
   "id": "5add20d4",
   "metadata": {},
   "source": [
    "* Task 1.9  Given 2 fractions, find the sum of those 2 fractions.Take the \n",
    "numerator and denominator values of the fractions from the user."
   ]
  },
  {
   "cell_type": "code",
   "execution_count": null,
   "id": "5e68a6d8",
   "metadata": {},
   "outputs": [],
   "source": []
  },
  {
   "cell_type": "markdown",
   "id": "4aa392d1",
   "metadata": {},
   "source": [
    "* Task 1.10 Given the height, width and breadth of a milk tank, you have to \n",
    "f\n",
    " ind out how many glasses of milk can be obtained? Assume all the \n",
    "inputs are provided by the user.\n",
    " Input: Dimensions of the milk tank H = 20cm, L = 20cm, B = 20cm  Dimensions of the glass h = \n",
    "3cm, r = 1cm"
   ]
  },
  {
   "cell_type": "code",
   "execution_count": null,
   "id": "20013d7c",
   "metadata": {},
   "outputs": [],
   "source": []
  }
 ],
 "metadata": {
  "kernelspec": {
   "display_name": "Python 3",
   "language": "python",
   "name": "python3"
  },
  "language_info": {
   "codemirror_mode": {
    "name": "ipython",
    "version": 3
   },
   "file_extension": ".py",
   "mimetype": "text/x-python",
   "name": "python",
   "nbconvert_exporter": "python",
   "pygments_lexer": "ipython3",
   "version": "3.11.5"
  }
 },
 "nbformat": 4,
 "nbformat_minor": 5
}
