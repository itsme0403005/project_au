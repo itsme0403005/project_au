{
 "cells": [
  {
   "cell_type": "markdown",
   "id": "fa16535e",
   "metadata": {},
   "source": [
    "* Task 1.1 Print the given string as per stated format\n",
    " :- \"Data\" \"Science\" \"Mentorship\" \"Program\"\n",
    " \"By\" \"CampusX\"\n",
    "* Data-Science-Mentorship-Program-By-CampusX"
   ]
  },
  {
   "cell_type": "code",
   "execution_count": null,
   "id": "956b179a",
   "metadata": {},
   "outputs": [],
   "source": []
  },
  {
   "cell_type": "code",
   "execution_count": null,
   "id": "ae421375",
   "metadata": {},
   "outputs": [],
   "source": []
  }
 ],
 "metadata": {
  "kernelspec": {
   "display_name": "Python 3",
   "language": "python",
   "name": "python3"
  },
  "language_info": {
   "codemirror_mode": {
    "name": "ipython",
    "version": 3
   },
   "file_extension": ".py",
   "mimetype": "text/x-python",
   "name": "python",
   "nbconvert_exporter": "python",
   "pygments_lexer": "ipython3",
   "version": "3.11.5"
  }
 },
 "nbformat": 4,
 "nbformat_minor": 5
}
