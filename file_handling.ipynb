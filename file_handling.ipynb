{
 "cells": [
  {
   "cell_type": "markdown",
   "id": "67b70d0e",
   "metadata": {},
   "source": [
    "## Text file"
   ]
  },
  {
   "cell_type": "code",
   "execution_count": 1,
   "id": "1f8f0974",
   "metadata": {},
   "outputs": [],
   "source": [
    "df=open(\"file_handling.txt\",mode='w')  \n",
    "df.close()"
   ]
  },
  {
   "cell_type": "code",
   "execution_count": 2,
   "id": "46f89aa5",
   "metadata": {},
   "outputs": [],
   "source": [
    "df=open(\"file_handling.txt\",mode='a')\n",
    "df.write(\"hello world \\n\")\n",
    "df.write(\"hey there \\n\")\n",
    "df.close()"
   ]
  },
  {
   "cell_type": "code",
   "execution_count": 3,
   "id": "d98c2acd",
   "metadata": {},
   "outputs": [],
   "source": [
    "lst=[\"This is a line \\n\",\"This is another line \\n\"]"
   ]
  },
  {
   "cell_type": "code",
   "execution_count": 4,
   "id": "5e60acb9",
   "metadata": {},
   "outputs": [],
   "source": [
    "df=open(\"file_handling.txt\",mode='a')\n",
    "df.writelines(lst)\n",
    "df.close()"
   ]
  },
  {
   "cell_type": "code",
   "execution_count": 5,
   "id": "9d45c5b6",
   "metadata": {},
   "outputs": [
    {
     "name": "stdout",
     "output_type": "stream",
     "text": [
      "66\n"
     ]
    }
   ],
   "source": [
    "df=open(\"file_handling.txt\",mode='a')\n",
    "print(df.tell()) # to know the current position of the cursor in the file \n",
    "df.write(\"hii i am new here \\n\")\n",
    "df.tell()\n",
    "df.close()"
   ]
  },
  {
   "cell_type": "code",
   "execution_count": 6,
   "id": "10edeae1",
   "metadata": {},
   "outputs": [],
   "source": [
    "df=open(\"file_handling.txt\",mode='w') \n",
    "df.write(\"hii i am new here \\n\")\n",
    "\n",
    "df.writelines(lst)\n",
    "# df.seek(10) # to change the position of the cursor in the file\n",
    "# df.write(\"not\")\n",
    "df.writelines(lst)\n",
    "df.close()"
   ]
  },
  {
   "cell_type": "code",
   "execution_count": 7,
   "id": "1f359cd7",
   "metadata": {},
   "outputs": [
    {
     "name": "stdout",
     "output_type": "stream",
     "text": [
      "hii i am new here \n",
      "This is a line \n",
      "This is another line \n",
      "This is a line \n",
      "This is another line \n",
      "\n"
     ]
    }
   ],
   "source": [
    "df=open(\"file_handling.txt\",mode='r')\n",
    "print(df.read())\n",
    "df.close()"
   ]
  },
  {
   "cell_type": "code",
   "execution_count": 8,
   "id": "607a1621",
   "metadata": {},
   "outputs": [
    {
     "name": "stdout",
     "output_type": "stream",
     "text": [
      "hii i a\n"
     ]
    }
   ],
   "source": [
    "df=open(\"file_handling.txt\",mode='r')\n",
    "print(df.read(7))\n",
    "df.close()"
   ]
  },
  {
   "cell_type": "code",
   "execution_count": 9,
   "id": "0c65e01b",
   "metadata": {},
   "outputs": [
    {
     "name": "stdout",
     "output_type": "stream",
     "text": [
      "hii i am new here \n",
      "\n",
      "['This is a line \\n', 'This is another line \\n', 'This is a line \\n', 'This is another line \\n']\n"
     ]
    }
   ],
   "source": [
    "df=open(\"file_handling.txt\",mode='r')\n",
    "print(df.readline())\n",
    "print(df.readlines())\n",
    "df.close()"
   ]
  },
  {
   "cell_type": "code",
   "execution_count": 10,
   "id": "ac477f55",
   "metadata": {},
   "outputs": [
    {
     "name": "stdout",
     "output_type": "stream",
     "text": [
      "hii i/ am n/ew he/re \n",
      "T/his i/s a l/ine \n",
      "/This /is an/other/ line/ \n",
      "Thi/s is /a lin/e \n",
      "Th/is is/ anot/her l/ine \n",
      "/"
     ]
    }
   ],
   "source": [
    "df=open(\"file_handling.txt\",mode='r')\n",
    "while True:\n",
    "    f=df.read(5)\n",
    "    if f==\"\":\n",
    "        break\n",
    "    else:\n",
    "        print(f,end=\"/\")\n",
    "df.close()"
   ]
  },
  {
   "cell_type": "code",
   "execution_count": 11,
   "id": "4427d7f9",
   "metadata": {},
   "outputs": [],
   "source": [
    "with open(\"file_handling.txt\",mode='a') as df:  # context manager used to automatically close the file\n",
    "    df.write(\"xyz\")\n",
    "    df.write(\"\\n abc\")"
   ]
  },
  {
   "cell_type": "code",
   "execution_count": 12,
   "id": "90befe26",
   "metadata": {},
   "outputs": [
    {
     "name": "stdout",
     "output_type": "stream",
     "text": [
      "hii i/ am n/ew he/re \n",
      "T/his i/s a l/ine \n",
      "/This /is an/other/ line/ \n",
      "Thi/s is /a lin/e \n",
      "Th/is is/ anot/her l/ine \n",
      "/xyz\n",
      " /abc/"
     ]
    }
   ],
   "source": [
    "with open (\"file_handling.txt\",mode='r') as df:\n",
    "    while True:\n",
    "        f=df.read(5)\n",
    "        if f==\"\":\n",
    "            break\n",
    "        else:\n",
    "            print(f,end=\"/\")\n",
    "    "
   ]
  },
  {
   "cell_type": "code",
   "execution_count": 13,
   "id": "a1351576",
   "metadata": {},
   "outputs": [],
   "source": [
    "with open (\"file_handling.txt\",mode='a') as df:\n",
    "    df.write(\"5\")"
   ]
  },
  {
   "cell_type": "code",
   "execution_count": 14,
   "id": "49a7c4c9",
   "metadata": {},
   "outputs": [
    {
     "data": {
      "text/plain": [
       "_io.TextIOWrapper"
      ]
     },
     "execution_count": 14,
     "metadata": {},
     "output_type": "execute_result"
    }
   ],
   "source": [
    "dict={\"a\":\"apple\",\"b\":\"ball\",3:\"cat\"}\n",
    "with open (\"file_handling.txt\",mode=\"a\") as df:\n",
    "    df.write(str(dict))\n",
    "type(df)"
   ]
  },
  {
   "cell_type": "markdown",
   "id": "df573c41",
   "metadata": {},
   "source": [
    "## Java Script Object Notation File :\n",
    "preserves structure & types (dicts, lists, numbers, booleans)."
   ]
  },
  {
   "cell_type": "code",
   "execution_count": 15,
   "id": "1c43f350",
   "metadata": {},
   "outputs": [],
   "source": [
    "import json"
   ]
  },
  {
   "cell_type": "code",
   "execution_count": 16,
   "id": "721d7187",
   "metadata": {},
   "outputs": [
    {
     "name": "stdout",
     "output_type": "stream",
     "text": [
      "file created\n"
     ]
    }
   ],
   "source": [
    "with open (\"file_handling.json\",mode=\"w\") as df:\n",
    "    json.dump(dict,df)\n",
    "    print(\"file created\")"
   ]
  },
  {
   "cell_type": "code",
   "execution_count": 17,
   "id": "65989c11",
   "metadata": {},
   "outputs": [],
   "source": [
    "with open(\"file_handling.json\",mode=\"r\") as df:\n",
    "    f=json.load(df)"
   ]
  },
  {
   "cell_type": "code",
   "execution_count": 18,
   "id": "cf745c3c",
   "metadata": {},
   "outputs": [
    {
     "data": {
      "text/plain": [
       "dict"
      ]
     },
     "execution_count": 18,
     "metadata": {},
     "output_type": "execute_result"
    }
   ],
   "source": [
    "type(f)"
   ]
  },
  {
   "cell_type": "code",
   "execution_count": 19,
   "id": "12c1e9f5",
   "metadata": {},
   "outputs": [
    {
     "data": {
      "text/plain": [
       "'cat'"
      ]
     },
     "execution_count": 19,
     "metadata": {},
     "output_type": "execute_result"
    }
   ],
   "source": [
    "f[\"3\"]"
   ]
  },
  {
   "cell_type": "code",
   "execution_count": 29,
   "id": "640e9daa",
   "metadata": {},
   "outputs": [
    {
     "name": "stdout",
     "output_type": "stream",
     "text": [
      "file created\n"
     ]
    }
   ],
   "source": [
    "lst=[\"a\",\"b\",\"c\"]\n",
    "with open (\"file_handling.json\",mode=\"w\") as df:\n",
    "    json.dump(lst,df)\n",
    "    print(\"file created\")"
   ]
  },
  {
   "cell_type": "code",
   "execution_count": 30,
   "id": "4c0a3387",
   "metadata": {},
   "outputs": [],
   "source": [
    "with open(\"file_handling.json\",mode=\"r\") as df:\n",
    "    f=json.load(df)\n",
    "\n"
   ]
  },
  {
   "cell_type": "code",
   "execution_count": 31,
   "id": "67019b63",
   "metadata": {},
   "outputs": [],
   "source": [
    "class student:\n",
    "    def __init__(self,name,section):\n",
    "        self.name=name\n",
    "        self.section=section\n",
    "s1=student(\"hii\",\"xyz\")"
   ]
  },
  {
   "cell_type": "code",
   "execution_count": 32,
   "id": "0043e912",
   "metadata": {},
   "outputs": [],
   "source": [
    "def display (obj):\n",
    "    return {\"name\":obj.name,\"section\":obj.section}"
   ]
  },
  {
   "cell_type": "code",
   "execution_count": 33,
   "id": "b392b6d8",
   "metadata": {},
   "outputs": [
    {
     "name": "stdout",
     "output_type": "stream",
     "text": [
      "file created\n"
     ]
    }
   ],
   "source": [
    "with open (\"file_handling.json\",mode=\"w\") as df:\n",
    "    json.dump(s1,df,default=display)\n",
    "    print(\"file created\")"
   ]
  },
  {
   "cell_type": "code",
   "execution_count": 34,
   "id": "d9c3a475",
   "metadata": {},
   "outputs": [
    {
     "data": {
      "text/plain": [
       "{'name': 'hii', 'section': 'xyz'}"
      ]
     },
     "execution_count": 34,
     "metadata": {},
     "output_type": "execute_result"
    }
   ],
   "source": [
    "with open (\"file_handling.json\",mode=\"r\") as df:\n",
    "    f=json.load(df)\n",
    "f"
   ]
  },
  {
   "cell_type": "markdown",
   "id": "6505cfb0",
   "metadata": {},
   "source": [
    "* serialization : convert py into json\n",
    "* deserialization : convert json into py"
   ]
  },
  {
   "cell_type": "code",
   "execution_count": null,
   "id": "7b01ee8e",
   "metadata": {},
   "outputs": [],
   "source": []
  }
 ],
 "metadata": {
  "kernelspec": {
   "display_name": "Python 3",
   "language": "python",
   "name": "python3"
  },
  "language_info": {
   "codemirror_mode": {
    "name": "ipython",
    "version": 3
   },
   "file_extension": ".py",
   "mimetype": "text/x-python",
   "name": "python",
   "nbconvert_exporter": "python",
   "pygments_lexer": "ipython3",
   "version": "3.11.5"
  }
 },
 "nbformat": 4,
 "nbformat_minor": 5
}
