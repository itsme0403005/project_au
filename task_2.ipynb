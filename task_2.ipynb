{
 "cells": [
  {
   "cell_type": "markdown",
   "id": "b297d1a7",
   "metadata": {},
   "source": [
    "* Task 2.1  Write a program that will give you in hand monthly salary \n",
    "after deduction on CTC - HRA(10%), DA(5%), PF(3%) and taxes \n",
    "    * deduction as below: \n",
    "        * Salary(Lakhs) : Tax(%)\n",
    "         * Below 5 : 0%\n",
    "        * 5-10 : 10%\n",
    "         * 10-20 : 20%\n",
    "         * aboove 20 : 30%\n",
    " "
   ]
  },
  {
   "cell_type": "code",
   "execution_count": 13,
   "id": "6ce32642",
   "metadata": {},
   "outputs": [
    {
     "name": "stdout",
     "output_type": "stream",
     "text": [
      "your monthly hand salary is 70864196.886\n"
     ]
    }
   ],
   "source": [
    "a=int(input(\"Enter your salary(lakhs)\"))\n",
    "a=a-a*0.18\n",
    "if a<500000:\n",
    "    deduction=a-a*0\n",
    "    print(\"your monthly hand salary is\",deduction)\n",
    "elif 500000>a>1000000:\n",
    "    deduction=a-a*0.1\n",
    "    print(\"your monthly hand salary is\",deduction)\n",
    "elif 1000000>a>2000000:\n",
    "    deduction=a-a*0.2\n",
    "    print(\"your monthly hand salary is\",deduction)\n",
    "else :\n",
    "    deduction=a-a*0.3\n",
    "    print(\"your monthly hand salary is\",deduction)"
   ]
  },
  {
   "cell_type": "markdown",
   "id": "874d500f",
   "metadata": {},
   "source": [
    "* Task 2.2  Write a program that take a user input of three angles and \n",
    "will find out whether it can form a triangle or not."
   ]
  },
  {
   "cell_type": "code",
   "execution_count": 14,
   "id": "3ca711c6",
   "metadata": {},
   "outputs": [
    {
     "name": "stdout",
     "output_type": "stream",
     "text": [
      "The triangle is not valid\n"
     ]
    }
   ],
   "source": [
    "a=int(input(\"Enter the angle 1 of the triangle\"))\n",
    "b=int(input(\"Enter the angle 2 of the triangle\"))\n",
    "c=int(input(\"Enter the angle 3 of the triangle\"))\n",
    "if a+b+c==180:\n",
    "    print(\"The triangle is valid\")\n",
    "else:\n",
    "    print(\"The triangle is not valid\")"
   ]
  },
  {
   "cell_type": "markdown",
   "id": "21f20b02",
   "metadata": {},
   "source": [
    "* Task 2.3 Write a program that will take user input of cost price and \n",
    "selling price and determines whether its a loss or a profit."
   ]
  },
  {
   "cell_type": "code",
   "execution_count": 15,
   "id": "f015bfe7",
   "metadata": {},
   "outputs": [
    {
     "name": "stdout",
     "output_type": "stream",
     "text": [
      "The loss is  300.0\n"
     ]
    }
   ],
   "source": [
    "a=float(input(\"Enter the cost price\"))\n",
    "b=float(input(\"Enter the selling price\"))\n",
    "if b>a:\n",
    "    print(\"The profit is \",b-a)\n",
    "else :\n",
    "    print(\"The loss is \",a-b)"
   ]
  },
  {
   "cell_type": "markdown",
   "id": "9942408e",
   "metadata": {},
   "source": [
    "* Task 2.4 Write a menu-driven program \n",
    "1. cm to ft\n",
    "2. km to miles\n",
    "3. USD to INR\n",
    "4. exit\n",
    "\n"
   ]
  },
  {
   "cell_type": "code",
   "execution_count": 26,
   "id": "3e73c0a0",
   "metadata": {},
   "outputs": [
    {
     "name": "stdout",
     "output_type": "stream",
     "text": [
      "Choose a condition from the following:\n",
      "      1. cm to ft\n",
      "      2. km to miles\n",
      "      3. USD to INR\n",
      "      4. Exit\n",
      "Invalid choice\n"
     ]
    }
   ],
   "source": [
    "print('''Choose a condition from the following:\n",
    "      1. cm to ft\n",
    "      2. km to miles\n",
    "      3. USD to INR\n",
    "      4. Exit''')\n",
    "a = input(\"Enter your choice (1-4): \")\n",
    "if a == \"1\":\n",
    "    value = float(input(\"Enter the length in cm: \"))\n",
    "    b = value * 0.0328084\n",
    "    print(\"The length in ft is\", b)\n",
    "elif a == \"2\":\n",
    "    value = float(input(\"Enter the length in km: \"))\n",
    "    b = value * 0.621371\n",
    "    print(\"The length in miles is\", b)\n",
    "elif a == \"3\":\n",
    "    value = float(input(\"Enter the amount in USD: \"))\n",
    "    b = value * 87.52   \n",
    "    print(\"The amount in INR is\", b)\n",
    "elif a == \"4\":\n",
    "    print(\"Exit\")\n",
    "else:\n",
    "    print(\"Invalid choice\")\n"
   ]
  },
  {
   "cell_type": "markdown",
   "id": "6d15dcde",
   "metadata": {},
   "source": [
    "* Task 2.5 Display Fibonacci series up to 10 terms."
   ]
  },
  {
   "cell_type": "code",
   "execution_count": 31,
   "id": "a9db5dae",
   "metadata": {},
   "outputs": [
    {
     "name": "stdout",
     "output_type": "stream",
     "text": [
      "Fibonacci series up to 10 terms:\n",
      "1 1 2 3 5 8 13 21 34 55 "
     ]
    }
   ],
   "source": [
    "n = 10\n",
    "a, b = 0, 1\n",
    "print(\"Fibonacci series up to\", n, \"terms:\")\n",
    "for i in range(n):\n",
    "    a, b = b, a + b\n",
    "    print(a, end=\" \")\n",
    "\n",
    "\n",
    "    \n"
   ]
  },
  {
   "cell_type": "markdown",
   "id": "801a4797",
   "metadata": {},
   "source": [
    "* Task 2.6  Find the factorial of a given number.\n",
    " Write a program to use the loop to find the factorial of a given number.\n",
    " The factorial (symbol: !) means to multiply all whole numbers from the chosen number down to 1.\n",
    "* For example: calculate the factorial of 5\n"
   ]
  },
  {
   "cell_type": "code",
   "execution_count": 3,
   "id": "c11c6122",
   "metadata": {},
   "outputs": [
    {
     "name": "stdout",
     "output_type": "stream",
     "text": [
      "120\n"
     ]
    }
   ],
   "source": [
    "a=int(input(\"Enter the number\"))\n",
    "fact=1\n",
    "for i in range(1,a+1):\n",
    "    fact=fact*i\n",
    "print(fact)"
   ]
  },
  {
   "cell_type": "markdown",
   "id": "e7c2acfe",
   "metadata": {},
   "source": [
    "* Task 2.7  Reverse a given integer number."
   ]
  },
  {
   "cell_type": "code",
   "execution_count": 1,
   "id": "08e1b714",
   "metadata": {},
   "outputs": [
    {
     "name": "stdout",
     "output_type": "stream",
     "text": [
      "123456789\n",
      "987654321\n"
     ]
    }
   ],
   "source": [
    "num=int(input(\"Enter the number\"))\n",
    "print(num)\n",
    "rev=0\n",
    "while num>0:\n",
    " lst_dig=num%10\n",
    " rev=rev*10+lst_dig\n",
    " num=num//10\n",
    "print (rev)"
   ]
  },
  {
   "cell_type": "markdown",
   "id": "6d5a5bb1",
   "metadata": {},
   "source": [
    "* Task 2.8 Take a user input as integer N. Find out the sum from 1 to N. \n",
    "If any number if divisible by 5, then skip that number. And if the sum is \n",
    "greater than 300, don't need to calculate the sum further more. Print \n",
    "the final result. And don't use for loop to solve this problem"
   ]
  },
  {
   "cell_type": "code",
   "execution_count": 15,
   "id": "2aabe9a5",
   "metadata": {},
   "outputs": [
    {
     "name": "stdout",
     "output_type": "stream",
     "text": [
      "10\n"
     ]
    }
   ],
   "source": [
    "n = int(input(\"Enter the number \"))\n",
    "counter = 1\n",
    "sum = 0\n",
    "\n",
    "while counter <= n and sum <= 300:\n",
    "    if counter % 5 != 0:       \n",
    "        sum = sum + counter\n",
    "    counter = counter + 1      \n",
    "print(sum)\n"
   ]
  },
  {
   "cell_type": "markdown",
   "id": "9a53f37c",
   "metadata": {},
   "source": [
    "* Task 2.9 Write a program that keeps on accepting a number from the \n",
    "user until the user enters Zero. Display the sum and average of all the \n",
    "numbers"
   ]
  },
  {
   "cell_type": "code",
   "execution_count": 21,
   "id": "6556a53c",
   "metadata": {},
   "outputs": [
    {
     "name": "stdout",
     "output_type": "stream",
     "text": [
      "12\n",
      "12.0\n",
      "26\n",
      "13.0\n",
      "39\n",
      "13.0\n",
      "50\n",
      "12.5\n",
      "stop\n"
     ]
    }
   ],
   "source": [
    "counter=0\n",
    "sum=0\n",
    "while True:\n",
    "    a=int(input(\"Enter the number\"))\n",
    "\n",
    "    if a==0:\n",
    "        print(\"stop\")\n",
    "        break\n",
    "    else :\n",
    "        sum=a+sum\n",
    "        counter=counter+1\n",
    "        avg=sum/counter \n",
    "    print(sum)\n",
    "    print(avg)"
   ]
  },
  {
   "cell_type": "markdown",
   "id": "790563a5",
   "metadata": {},
   "source": [
    "* Task 2.10  Write a program which will find all such numbers which are divisible by 7 but \n",
    "are not a multiple of 5, between 2000 and 3200 (both included). The numbers obtained should \n",
    "be printed in a comma-separated sequence on a single line."
   ]
  },
  {
   "cell_type": "code",
   "execution_count": 25,
   "id": "90a8b63f",
   "metadata": {},
   "outputs": [
    {
     "name": "stdout",
     "output_type": "stream",
     "text": [
      "2002,2009,2016,2023,2037,2044,2051,2058,2072,2079,2086,2093,2107,2114,2121,2128,2142,2149,2156,2163,2177,2184,2191,2198,2212,2219,2226,2233,2247,2254,2261,2268,2282,2289,2296,2303,2317,2324,2331,2338,2352,2359,2366,2373,2387,2394,2401,2408,2422,2429,2436,2443,2457,2464,2471,2478,2492,2499,2506,2513,2527,2534,2541,2548,2562,2569,2576,2583,2597,2604,2611,2618,2632,2639,2646,2653,2667,2674,2681,2688,2702,2709,2716,2723,2737,2744,2751,2758,2772,2779,2786,2793,2807,2814,2821,2828,2842,2849,2856,2863,2877,2884,2891,2898,2912,2919,2926,2933,2947,2954,2961,2968,2982,2989,2996,3003,3017,3024,3031,3038,3052,3059,3066,3073,3087,3094,3101,3108,3122,3129,3136,3143,3157,3164,3171,3178,3192,3199,"
     ]
    }
   ],
   "source": [
    "for i in range (2000,3201):\n",
    "    if i%7==0 and i%5!=0:\n",
    "        print(i,end=\",\")"
   ]
  },
  {
   "cell_type": "markdown",
   "id": "c7c04ab5",
   "metadata": {},
   "source": [
    "* Task 2.11 Write a program, which will find all such numbers between 1000 and 3000 \n",
    "(both included) such that each digit of the number is an even number. The numbers obtained \n",
    "should be printed in a space-separated sequence on a single line."
   ]
  },
  {
   "cell_type": "code",
   "execution_count": 5,
   "id": "b7219ee5",
   "metadata": {},
   "outputs": [
    {
     "name": "stdout",
     "output_type": "stream",
     "text": [
      "2000 2002 2004 2006 2008 2020 2022 2024 2026 2028 2040 2042 2044 2046 2048 2060 2062 2064 2066 2068 2080 2082 2084 2086 2088 2200 2202 2204 2206 2208 2220 2222 2224 2226 2228 2240 2242 2244 2246 2248 2260 2262 2264 2266 2268 2280 2282 2284 2286 2288 2400 2402 2404 2406 2408 2420 2422 2424 2426 2428 2440 2442 2444 2446 2448 2460 2462 2464 2466 2468 2480 2482 2484 2486 2488 2600 2602 2604 2606 2608 2620 2622 2624 2626 2628 2640 2642 2644 2646 2648 2660 2662 2664 2666 2668 2680 2682 2684 2686 2688 2800 2802 2804 2806 2808 2820 2822 2824 2826 2828 2840 2842 2844 2846 2848 2860 2862 2864 2866 2868 2880 2882 2884 2886 2888 "
     ]
    }
   ],
   "source": [
    "for i in range(1000, 3001):\n",
    "    s = str(i)\n",
    "    if all(int(i) % 2 == 0 for i in s): \n",
    "        print(i, end=\" \")\n"
   ]
  },
  {
   "cell_type": "markdown",
   "id": "10fef0a1",
   "metadata": {},
   "source": [
    "* Task 2.12  A robot moves in a plane starting from the original point (0,0). The robot can \n",
    "move toward UP, DOWN, LEFT and RIGHT with a given steps. The trace of robot movement is \n",
    "shown as the following:\n",
    "     UP 5\n",
    "    DOWN 3\n",
    "    LEFT 3\n",
    "    RIGHT 2\n",
    "    !\n",
    " The numbers after the direction are steps.\n",
    " ! means robot stop there.\n",
    " Please write a program to compute the distance from current position after a sequence of \n",
    "movement and original point.\n",
    " If the distance is a float, then just print the nearest integer."
   ]
  },
  {
   "cell_type": "code",
   "execution_count": 9,
   "id": "be9d2c44",
   "metadata": {},
   "outputs": [
    {
     "name": "stdout",
     "output_type": "stream",
     "text": [
      "The robot movement is shown as the following:\n",
      "    UP 5\n",
      "    DOWN 3\n",
      "    LEFT 3\n",
      "    RIGHT 2\n",
      "    STOP !\n",
      "\n",
      "The robot moved up by 5 units\n",
      "The robot stopped.\n",
      "Final Position (0, 5)\n",
      "Distance from origin 5\n"
     ]
    }
   ],
   "source": [
    "import math\n",
    "print('''The robot movement is shown as the following:\n",
    "    UP 5\n",
    "    DOWN 3\n",
    "    LEFT 3\n",
    "    RIGHT 2\n",
    "    STOP !\n",
    "''')\n",
    "x, y = 0, 0\n",
    "while True:\n",
    "    choice = input(\"Enter your choice: \").strip().upper()\n",
    "    if choice == \"UP\":\n",
    "        y += 5\n",
    "        print(\"The robot moved up by 5 units\")\n",
    "    elif choice == \"DOWN\":\n",
    "        y -= 3\n",
    "        print(\"The robot moved down by 3 units\")\n",
    "    elif choice == \"LEFT\":\n",
    "        x -= 3\n",
    "        print(\"The robot moved left by 3 units\")\n",
    "    elif choice == \"RIGHT\":\n",
    "        x += 2\n",
    "        print(\"The robot moved right by 2 units\")\n",
    "    elif choice == \"!\":\n",
    "        print(\"The robot stopped.\")\n",
    "        break\n",
    "    else:\n",
    "        print(\"Invalid choice\")\n",
    "distance = math.sqrt(x**2 + y**2)\n",
    "print(\"Final Position\", (x, y))\n",
    "print(\"Distance from origin\", round(distance))\n"
   ]
  },
  {
   "cell_type": "markdown",
   "id": "254e01aa",
   "metadata": {},
   "source": [
    "* Task 2.13 Write a program to print whether a given number is a prime number or not"
   ]
  },
  {
   "cell_type": "code",
   "execution_count": 12,
   "id": "e05d2742",
   "metadata": {},
   "outputs": [
    {
     "name": "stdout",
     "output_type": "stream",
     "text": [
      "not prime\n"
     ]
    }
   ],
   "source": [
    "a=int(input(\"enter the number\"))\n",
    "for i in range (2,int(a**0.5)+1) :\n",
    "    if a%i==0:\n",
    "        print(\"not prime\")\n",
    "        break\n",
    "    else:\n",
    "        print(\"prime\")\n",
    "        break"
   ]
  },
  {
   "cell_type": "markdown",
   "id": "f7d2e6ae",
   "metadata": {},
   "source": [
    "* Task 2.14 Print all the Armstrong numbers in a given range. Range will be provided by \n",
    "the user Armstrong number is a number that is equal to the sum of cubes of its digits. For \n",
    "example 0, 1, 153, 370, 371 and 407 are the Armstrong numbers."
   ]
  },
  {
   "cell_type": "code",
   "execution_count": null,
   "id": "e23605e8",
   "metadata": {},
   "outputs": [],
   "source": []
  },
  {
   "cell_type": "markdown",
   "id": "f46d1b88",
   "metadata": {},
   "source": [
    "* Task 2.15 Calculate the angle between the hour hand and minute hand.\n",
    " Note: There can be two angles between hands; we need to print a minimum of two. Also, we \n",
    "need to print the floor of the final result angle. For example, if the final angle is 10.61, we need to \n",
    "print 10.\n",
    " Input: H = 9 , M = 0 Output: 90 Explanation: The minimum angle between hour and minute hand \n",
    "when the time is 9 is 90 degress."
   ]
  },
  {
   "cell_type": "code",
   "execution_count": null,
   "id": "54c3afb3",
   "metadata": {},
   "outputs": [],
   "source": []
  },
  {
   "cell_type": "markdown",
   "id": "ebe6300b",
   "metadata": {},
   "source": [
    "* Task 2.16 Given two rectangles, find if the given two rectangles overlap or not. A \n",
    "rectangle is denoted by providing the x and y coordinates of two points: the left top corner and \n",
    "the right bottom corner of the rectangle. Two rectangles sharing a side are considered \n",
    "overlapping. (L1 and R1 are the extreme points of the first rectangle and L2 and R2 are the \n",
    "extreme points of the second rectangle).\n",
    " Note: It may be assumed that the rectangles are parallel to the coordinate axis."
   ]
  },
  {
   "cell_type": "code",
   "execution_count": null,
   "id": "6839f86c",
   "metadata": {},
   "outputs": [],
   "source": []
  }
 ],
 "metadata": {
  "kernelspec": {
   "display_name": "Python 3",
   "language": "python",
   "name": "python3"
  },
  "language_info": {
   "codemirror_mode": {
    "name": "ipython",
    "version": 3
   },
   "file_extension": ".py",
   "mimetype": "text/x-python",
   "name": "python",
   "nbconvert_exporter": "python",
   "pygments_lexer": "ipython3",
   "version": "3.11.5"
  }
 },
 "nbformat": 4,
 "nbformat_minor": 5
}
