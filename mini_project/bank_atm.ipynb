{
 "cells": [
  {
   "cell_type": "code",
   "execution_count": 1,
   "id": "f6c4c45f-bf9b-427b-91fd-06b32772c977",
   "metadata": {},
   "outputs": [],
   "source": [
    "class Bank_Atm:\n",
    "    def __init__(self):\n",
    "        self.bal=0 \n",
    "        self.pin=\"\"\n",
    "        self.Menu()\n",
    "    def Menu(self):\n",
    "        options=input('''\n",
    "        1. Set Balance \n",
    "        2. Set Pin \n",
    "        3. Check Balance \n",
    "        4. Withdrwal \n",
    "        5. Press 5 for exit''')\n",
    "        if options==\"1\":\n",
    "            self.set_balance()\n",
    "        elif options==\"2\":\n",
    "            self.set_pin()\n",
    "        elif options==\"3\":\n",
    "            self.check_balance()\n",
    "        elif options==\"4\":\n",
    "            self.withdrawal()\n",
    "        \n",
    "    def set_balance(self):\n",
    "        amount=float(input(\"Enter Amount You Want to Deposit\"))\n",
    "        self.bal=amount\n",
    "        self.Menu()\n",
    "    def set_pin(self):\n",
    "        new_pin=input(\"Enter Pin Number \")\n",
    "        self.pin=new_pin \n",
    "        print(\"Pin Change Sucessfull\")\n",
    "        self.Menu()\n",
    "    def check_balance(self):\n",
    "        pin=input(\"Enter Pin Number \")\n",
    "        if pin!= self.pin:\n",
    "            print(\"Incorrect Pin\")\n",
    "            self.Menu()\n",
    "        else:\n",
    "            print(\"Your Balance is\",self.bal)\n",
    "        self.Menu()\n",
    "    def withdrawal(self):\n",
    "        pin=input(\"Enter Pin Number \")\n",
    "        for i in range(3):\n",
    "            if pin!= self.pin:\n",
    "                print(\"Incorrect Pin\")\n",
    "                pin=input(\"Enter Pin Number \")\n",
    "            else:\n",
    "                break\n",
    "        amount=float(input(\"Enter Amount You Want to Withdraw\"))\n",
    "        for i in range(3):\n",
    "            if amount>self.bal:\n",
    "                print(\"Insufficient Balance\")\n",
    "                amount=float(input(\"Enter Amount You Want to Withdraw\"))\n",
    "            else:\n",
    "                break\n",
    "        self.bal=self.bal-amount\n",
    "        print(\"Withdrawal Sucessfull\",self.bal)\n",
    "        self.Menu()"
   ]
  },
  {
   "cell_type": "code",
   "execution_count": 2,
   "id": "cef3b0de-5a32-42f3-8dff-29666ff7e0a2",
   "metadata": {},
   "outputs": [
    {
     "name": "stdout",
     "output_type": "stream",
     "text": [
      "Pin Change Sucessfull\n",
      "Withdrawal Sucessfull 2311.0\n"
     ]
    }
   ],
   "source": [
    "b1=Bank_Atm()"
   ]
  },
  {
   "cell_type": "code",
   "execution_count": 15,
   "id": "71da6547-7604-4387-a2a2-909d27947610",
   "metadata": {},
   "outputs": [
    {
     "name": "stdout",
     "output_type": "stream",
     "text": [
      "Pin Change Sucessfull\n",
      "Incorrect Pin\n",
      "Incorrect Pin\n",
      "Withdrawal Sucessfull 0.0\n"
     ]
    }
   ],
   "source": [
    "b2=Bank_Atm()"
   ]
  }
 ],
 "metadata": {
  "kernelspec": {
   "display_name": "Python 3",
   "language": "python",
   "name": "python3"
  },
  "language_info": {
   "codemirror_mode": {
    "name": "ipython",
    "version": 3
   },
   "file_extension": ".py",
   "mimetype": "text/x-python",
   "name": "python",
   "nbconvert_exporter": "python",
   "pygments_lexer": "ipython3",
   "version": "3.11.5"
  }
 },
 "nbformat": 4,
 "nbformat_minor": 5
}
